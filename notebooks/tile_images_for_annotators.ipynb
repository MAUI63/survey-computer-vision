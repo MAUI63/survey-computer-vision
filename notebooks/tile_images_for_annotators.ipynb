{
 "cells": [
  {
   "cell_type": "code",
   "execution_count": 4,
   "metadata": {},
   "outputs": [
    {
     "name": "stderr",
     "output_type": "stream",
     "text": [
      "100%|██████████| 11844/11844 [02:15<00:00, 87.11it/s] <00:00, 895.23it/s]\n",
      "Processing images: 100%|██████████| 11844/11844 [02:16<00:00, 86.88it/s] \n"
     ]
    }
   ],
   "source": [
    "from pathlib import Path\n",
    "from PIL import Image\n",
    "from tqdm import tqdm\n",
    "import concurrent.futures\n",
    "\n",
    "src_dir = Path(\n",
    "    \"/workspaces/cv/data/surveys/action-aviation-multicamera/20250331_west_coast_4camera_test/flight_1/cameras\"\n",
    ")\n",
    "nh = 3\n",
    "nw = 3\n",
    "odir = Path(f\"/workspaces/cv/.tmp/20250331_west_coast_4camera_test_flight_1_crop_{nh}x{nw}\")\n",
    "quality = 95\n",
    "\n",
    "\n",
    "def do(imgpath):\n",
    "    img = Image.open(imgpath)\n",
    "    # Get crops:\n",
    "    for yi in range(nh):\n",
    "        for xi in range(nw):\n",
    "            x0 = int(img.width // nw * xi)\n",
    "            y0 = int(img.height // nh * yi)\n",
    "            x1 = int(img.width // nw * (xi + 1))\n",
    "            y1 = int(img.height // nh * (yi + 1))\n",
    "            this_odir = odir / imgpath.parent.relative_to(src_dir)\n",
    "            opath = this_odir / f\"{imgpath.stem}_{x0}_{y0}.jpg\"\n",
    "            if opath.exists():\n",
    "                continue\n",
    "            crop = img.crop((x0, y0, x1, y1))\n",
    "            this_odir.mkdir(parents=True, exist_ok=True)\n",
    "            tmp_path = opath.with_suffix(\".tmp.jpg\")\n",
    "            crop.save(tmp_path, quality=quality)\n",
    "            tmp_path.rename(opath)\n",
    "\n",
    "\n",
    "imgpaths = list(sorted(src_dir.rglob(\"*.JPG\")))\n",
    "# imgpaths = [i for i in imgpaths if i.name == \"_09R9718.JPG\"]\n",
    "\n",
    "# Create all the thumbs:\n",
    "pbar = tqdm(total=len(imgpaths), desc=\"Processing images\")\n",
    "with concurrent.futures.ThreadPoolExecutor(max_workers=8) as executor:\n",
    "    futures = [executor.submit(do, i) for i in imgpaths]\n",
    "    for future in tqdm(concurrent.futures.as_completed(futures), total=len(futures)):\n",
    "        try:\n",
    "            future.result()\n",
    "        except Exception as e:\n",
    "            print(f\"Error processing thumbnail: {e}\")\n",
    "            continue\n",
    "        pbar.update(1)\n",
    "pbar.close()\n"
   ]
  }
 ],
 "metadata": {
  "kernelspec": {
   "display_name": "base",
   "language": "python",
   "name": "python3"
  },
  "language_info": {
   "codemirror_mode": {
    "name": "ipython",
    "version": 3
   },
   "file_extension": ".py",
   "mimetype": "text/x-python",
   "name": "python",
   "nbconvert_exporter": "python",
   "pygments_lexer": "ipython3",
   "version": "3.8.12"
  }
 },
 "nbformat": 4,
 "nbformat_minor": 2
}
