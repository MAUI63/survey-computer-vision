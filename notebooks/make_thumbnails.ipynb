{
 "cells": [
  {
   "cell_type": "code",
   "execution_count": 2,
   "metadata": {},
   "outputs": [],
   "source": [
    "from pathlib import Path\n",
    "import concurrent.futures\n",
    "from PIL import Image\n",
    "from tqdm import tqdm"
   ]
  },
  {
   "cell_type": "code",
   "execution_count": 3,
   "metadata": {},
   "outputs": [],
   "source": [
    "DATA_DIR = Path(\"/workspaces/cv/data/surveys/roc2\")\n",
    "THUMBSIZE = (600, 400)  # 9504x6336\n",
    "THUMBQUALITY = 80"
   ]
  },
  {
   "cell_type": "code",
   "execution_count": 10,
   "metadata": {},
   "outputs": [
    {
     "name": "stdout",
     "output_type": "stream",
     "text": [
      "9718\n"
     ]
    }
   ],
   "source": [
    "# tasks = []\n",
    "# for survey_dir in sorted(DATA_DIR.iterdir()):\n",
    "#     for flight_dir in sorted(survey_dir.iterdir()):\n",
    "#         if not flight_dir.is_dir():\n",
    "#             continue\n",
    "#         assert flight_dir.name.startswith(\"flight\")\n",
    "#         photodir = flight_dir / \"photos\"\n",
    "#         if not photodir.exists():\n",
    "#             continue\n",
    "#         thumdir = flight_dir / \"thumbnails\"\n",
    "#         for imgpath in sorted(photodir.iterdir()):\n",
    "#             assert imgpath.name.endswith(\".JPG\")\n",
    "#             tasks.append((imgpath, thumdir / f\"{imgpath.stem}.jpg\"))\n",
    "# # tasks = tasks[:10]\n",
    "# print(len(tasks))\n",
    "tasks = []\n",
    "for survey_dir in sorted(DATA_DIR.iterdir()):\n",
    "    for flight_dir in sorted(survey_dir.iterdir()):\n",
    "        if not flight_dir.is_dir():\n",
    "            continue\n",
    "        assert flight_dir.name.startswith(\"flight\")\n",
    "        for photodir in sorted((flight_dir / \"DCIM\").iterdir()):\n",
    "            thumdir = photodir.parent / f\"{photodir.name}.thumbnails\"\n",
    "            for imgpath in sorted(photodir.iterdir()):\n",
    "                assert imgpath.name.endswith(\".JPG\")\n",
    "                tasks.append((imgpath, thumdir / f\"{imgpath.stem}.jpg\"))\n",
    "# tasks = tasks[:10]\n",
    "print(len(tasks))"
   ]
  },
  {
   "cell_type": "code",
   "execution_count": 12,
   "metadata": {},
   "outputs": [
    {
     "name": "stderr",
     "output_type": "stream",
     "text": [
      "100%|██████████| 9718/9718 [09:49<00:00, 16.49it/s] \n"
     ]
    }
   ],
   "source": [
    "def do(imgpath, thumbpath):\n",
    "    img = Image.open(imgpath)\n",
    "    img.thumbnail(THUMBSIZE)\n",
    "    thumbpath.parent.mkdir(parents=True, exist_ok=True)\n",
    "    img.save(thumbpath, quality=THUMBQUALITY)\n",
    "\n",
    "\n",
    "with concurrent.futures.ThreadPoolExecutor(max_workers=128) as ex:\n",
    "    futures = [ex.submit(do, *args) for args in tasks]\n",
    "    for future in tqdm(concurrent.futures.as_completed(futures), total=len(futures)):\n",
    "        res = future.result()"
   ]
  }
 ],
 "metadata": {
  "kernelspec": {
   "display_name": "base",
   "language": "python",
   "name": "python3"
  },
  "language_info": {
   "codemirror_mode": {
    "name": "ipython",
    "version": 3
   },
   "file_extension": ".py",
   "mimetype": "text/x-python",
   "name": "python",
   "nbconvert_exporter": "python",
   "pygments_lexer": "ipython3",
   "version": "3.8.12"
  }
 },
 "nbformat": 4,
 "nbformat_minor": 2
}
