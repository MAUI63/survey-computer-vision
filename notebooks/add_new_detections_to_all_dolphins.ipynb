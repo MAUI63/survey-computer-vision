{
 "cells": [
  {
   "cell_type": "code",
   "execution_count": 1,
   "metadata": {},
   "outputs": [],
   "source": [
    "from pathlib import Path\n",
    "\n",
    "\"\"\"\n",
    "After running through a survey, these are visualizations you've found with dolphins\n",
    "\"\"\"\n",
    "SURVEY_DIR = Path(\"/workspaces/cv/data/surveys\")\n",
    "LAST_ANNOTATION_DIR = Path(\"/workspaces/cv/data/ml/annotated/202505-dolphins\")\n",
    "NEW_ANNOTATION_DIR = Path(\"/workspaces/cv/data/ml/annotated/202505v2-dolphins\")\n",
    "SURVEY_TYPE = \"action-aviation-multicamera\"\n",
    "SURVEY_NAME = \"20250405_west_coast_4camera\"\n",
    "FLIGHT = 1\n",
    "DOLPHIN_FILENAMES = (\n",
    "    \"_09R3408.JPG\",\n",
    "    \"_28L0468.JPG\",\n",
    "    \"_28R5515.JPG\",\n",
    "    \"_28R6505.JPG\",\n",
    "    \"_28R6790.JPG\",\n",
    ")"
   ]
  },
  {
   "cell_type": "code",
   "execution_count": 6,
   "metadata": {},
   "outputs": [],
   "source": [
    "import json\n",
    "\n",
    "with open(LAST_ANNOTATION_DIR / \"all.json\") as f:\n",
    "    last = json.load(f)\n"
   ]
  },
  {
   "cell_type": "code",
   "execution_count": 3,
   "metadata": {},
   "outputs": [
    {
     "name": "stdout",
     "output_type": "stream",
     "text": [
      "14952 files in survey dir\n",
      "_09R3408.JPG\n",
      "[PosixPath('/workspaces/cv/data/surveys/action-aviation-multicamera/20250405_west_coast_4camera/flight_1/cameras/R09/DCIM/10250405/_09R3408.JPG')]\n",
      "=> Need to annotate _09R3408.JPG action-aviation-multicamera__20250405_west_coast_4camera__flight_1___09R3408.JPG\n",
      "_28L0468.JPG\n",
      "[PosixPath('/workspaces/cv/data/surveys/action-aviation-multicamera/20250405_west_coast_4camera/flight_1/cameras/L28/DCIM/10150405/_28L0468.JPG')]\n",
      "=> Need to annotate _28L0468.JPG action-aviation-multicamera__20250405_west_coast_4camera__flight_1___28L0468.JPG\n",
      "_28R5515.JPG\n",
      "[PosixPath('/workspaces/cv/data/surveys/action-aviation-multicamera/20250405_west_coast_4camera/flight_1/cameras/R28/DCIM/10150405/_28R5515.JPG')]\n",
      "=> Need to annotate _28R5515.JPG action-aviation-multicamera__20250405_west_coast_4camera__flight_1___28R5515.JPG\n",
      "_28R6505.JPG\n",
      "[PosixPath('/workspaces/cv/data/surveys/action-aviation-multicamera/20250405_west_coast_4camera/flight_1/cameras/R28/DCIM/10150405/_28R6505.JPG')]\n",
      "=> Need to annotate _28R6505.JPG action-aviation-multicamera__20250405_west_coast_4camera__flight_1___28R6505.JPG\n",
      "_28R6790.JPG\n",
      "[PosixPath('/workspaces/cv/data/surveys/action-aviation-multicamera/20250405_west_coast_4camera/flight_1/cameras/R28/DCIM/10150405/_28R6790.JPG')]\n",
      "=> Need to annotate _28R6790.JPG action-aviation-multicamera__20250405_west_coast_4camera__flight_1___28R6790.JPG\n"
     ]
    }
   ],
   "source": [
    "# Find new ones to annotate:\n",
    "import shutil\n",
    "from PIL import Image\n",
    "\n",
    "to_annotate_dir = Path(\"/workspaces/cv/.tmp/to_annotate\")\n",
    "if to_annotate_dir.exists():\n",
    "    if list(to_annotate_dir.iterdir()):\n",
    "        raise RuntimeError(\"Annotate dir exists - delete if it you're happy you don't need it\")\n",
    "to_annotate_dir.mkdir(exist_ok=True, parents=True)\n",
    "# Find the images in the survey di\n",
    "to_annotate = {}\n",
    "\n",
    "all_files = list((SURVEY_DIR / SURVEY_TYPE / SURVEY_NAME / f\"flight_{FLIGHT}\").rglob(\"*.JPG\"))\n",
    "print(len(all_files), \"files in survey dir\")\n",
    "for fname in DOLPHIN_FILENAMES:\n",
    "    print(fname)\n",
    "    imgpath = [i for i in all_files if i.name == fname]\n",
    "    print(imgpath)\n",
    "    assert len(imgpath) == 1\n",
    "    imgpath = imgpath[0]\n",
    "    # Remove orientation tag by opening/saving:\n",
    "    img = Image.open(imgpath)\n",
    "    assert img.width > img.height\n",
    "    # Does it exist?\n",
    "    coco_fname = f\"{SURVEY_TYPE}__{SURVEY_NAME}__flight_{FLIGHT}__{imgpath.name}\"\n",
    "    existing = [i for i in last[\"images\"] if i[\"file_name\"] == coco_fname]\n",
    "    if existing:\n",
    "        assert len(existing) == 1\n",
    "        print(fname, \"already exists\")\n",
    "    else:\n",
    "        print(\"=> Need to annotate\", fname, coco_fname)\n",
    "        img.save(to_annotate_dir / coco_fname)\n",
    "        to_annotate[coco_fname] = imgpath"
   ]
  },
  {
   "cell_type": "code",
   "execution_count": null,
   "metadata": {},
   "outputs": [],
   "source": [
    "# Right, go upload that to labelme, annotate, and copy back to tmp dir\n",
    "assert False"
   ]
  },
  {
   "cell_type": "code",
   "execution_count": 7,
   "metadata": {},
   "outputs": [],
   "source": [
    "from datetime import datetime\n",
    "\n",
    "date_added = datetime.now().isoformat()\n",
    "\n",
    "for coco_fname, img_path in to_annotate.items():\n",
    "    new_img_id = len(last[\"images\"])\n",
    "    assert new_img_id not in [i[\"id\"] for i in last[\"images\"]]\n",
    "    img = Image.open(to_annotate_dir / coco_fname)\n",
    "    assert img.width > img.height\n",
    "    last[\"images\"].append(\n",
    "        {\n",
    "            \"id\": new_img_id,\n",
    "            \"file_name\": coco_fname,\n",
    "            \"width\": img.width,\n",
    "            \"height\": img.height,\n",
    "            \"meta\": {\n",
    "                \"survey_type\": SURVEY_TYPE,\n",
    "                \"survey\": SURVEY_NAME,\n",
    "                \"flight\": FLIGHT,\n",
    "                \"date_added_to_dataset\": date_added,\n",
    "            },\n",
    "        }\n",
    "    )\n",
    "\n",
    "    annotation_path = to_annotate_dir / f\"{coco_fname.split('.')[0]}.json\"\n",
    "    # Copy the annotation to the new dir\n",
    "    with open(annotation_path) as f:\n",
    "        annotation = json.load(f)\n",
    "    for shape in annotation[\"shapes\"]:\n",
    "        assert shape[\"label\"] == \"maui\"\n",
    "        x0y0, x1y1 = shape[\"points\"]\n",
    "        x0 = int(x0y0[0])\n",
    "        y0 = int(x0y0[1])\n",
    "        w = int(x1y1[0] - x0y0[0])\n",
    "        h = int(x1y1[1] - x0y0[1])\n",
    "        new_annotation_id = len(last[\"annotations\"])\n",
    "        assert new_annotation_id not in [i[\"id\"] for i in last[\"annotations\"]]\n",
    "        last[\"annotations\"].append(\n",
    "            {\"id\": new_annotation_id, \"image_id\": new_img_id, \"category_id\": 0, \"bbox\": [x0, y0, w, h]}\n",
    "        )\n",
    "\n",
    "assert len(last[\"images\"]) == len(set(i[\"id\"] for i in last[\"images\"]))\n",
    "assert len(last[\"images\"]) == len(set(i[\"image_id\"] for i in last[\"annotations\"]))\n",
    "assert len(last[\"annotations\"]) == len(set(i[\"id\"] for i in last[\"annotations\"]))"
   ]
  },
  {
   "cell_type": "code",
   "execution_count": 8,
   "metadata": {},
   "outputs": [],
   "source": [
    "# Now save it\n",
    "NEW_ANNOTATION_DIR.mkdir(exist_ok=True)\n",
    "with open(NEW_ANNOTATION_DIR / \"all.json\", \"w\") as f:\n",
    "    json.dump(last, f, indent=2)"
   ]
  },
  {
   "cell_type": "code",
   "execution_count": 9,
   "metadata": {},
   "outputs": [],
   "source": [
    "# Copy it over\n",
    "imgdir = NEW_ANNOTATION_DIR / \"all\"\n",
    "imgdir.mkdir(exist_ok=True, parents=True)\n",
    "\n",
    "# Copy old ones:\n",
    "for img in (LAST_ANNOTATION_DIR / \"all\").iterdir():\n",
    "    shutil.copy(img, imgdir / img.name)\n",
    "\n",
    "# Copy new ones - the raw image:\n",
    "for coco_fname, img_path in to_annotate.items():\n",
    "    shutil.copy(img_path, imgdir / coco_fname)\n",
    "\n",
    "# Check it all makes sense\n",
    "assert len(list(imgdir.iterdir())) == len(last[\"images\"])\n",
    "for img in last[\"images\"]:\n",
    "    assert (imgdir / img[\"file_name\"]).exists()\n",
    "\n",
    "# Save the annotation\n",
    "with open(NEW_ANNOTATION_DIR / \"all.json\", \"w\") as f:\n",
    "    json.dump(last, f, indent=2)"
   ]
  }
 ],
 "metadata": {
  "kernelspec": {
   "display_name": "base",
   "language": "python",
   "name": "python3"
  },
  "language_info": {
   "codemirror_mode": {
    "name": "ipython",
    "version": 3
   },
   "file_extension": ".py",
   "mimetype": "text/x-python",
   "name": "python",
   "nbconvert_exporter": "python",
   "pygments_lexer": "ipython3",
   "version": "3.8.12"
  }
 },
 "nbformat": 4,
 "nbformat_minor": 2
}
