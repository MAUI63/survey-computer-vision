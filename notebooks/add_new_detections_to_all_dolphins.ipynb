{
 "cells": [
  {
   "cell_type": "code",
   "execution_count": 1,
   "metadata": {},
   "outputs": [],
   "source": [
    "from pathlib import Path\n",
    "import _fixpath\n",
    "\n",
    "ANYLABEL_DIR = Path(\"/workspaces/cv/.tmp/to-annotate-20251010_163139-no-orientation\")  # Where you annotated new stuff\n",
    "LAST_ANNOTATION_DIR = Path(\"/workspaces/cv/data/ml/annotated/202505-dolphins\")\n",
    "NEW_ANNOTATION_DIR = Path(\"/workspaces/cv/data/ml/annotated/202508-dolphins\")\n",
    "SURVEY_NAME = \"2025-08-winter-survey\"\n",
    "SURVEY_TYPE = \"action-aviation-multicamera\"\n",
    "FLIGHT = None"
   ]
  },
  {
   "cell_type": "code",
   "execution_count": 5,
   "metadata": {},
   "outputs": [],
   "source": [
    "import json\n",
    "\n",
    "with open(LAST_ANNOTATION_DIR / \"all.json\") as f:\n",
    "    last = json.load(f)\n"
   ]
  },
  {
   "cell_type": "code",
   "execution_count": 6,
   "metadata": {},
   "outputs": [],
   "source": [
    "from datetime import datetime\n",
    "from PIL import Image\n",
    "from img_utils import is_exif_oriented\n",
    "\n",
    "date_added = datetime.now().isoformat()\n",
    "\n",
    "imgs_to_copy = []\n",
    "for img_path in ANYLABEL_DIR.glob(\"*.jpg\"):\n",
    "    new_img_id = len(last[\"images\"])\n",
    "    assert new_img_id not in [i[\"id\"] for i in last[\"images\"]]\n",
    "    assert not is_exif_oriented(img_path), f\"Image {img_path} has EXIF orientation - please fix that first\"\n",
    "    img = Image.open(img_path)\n",
    "    imgs_to_copy.append(img_path)\n",
    "    assert img.width > img.height\n",
    "    last[\"images\"].append(\n",
    "        {\n",
    "            \"id\": new_img_id,\n",
    "            \"file_name\": img_path.name,\n",
    "            \"width\": img.width,\n",
    "            \"height\": img.height,\n",
    "            \"meta\": {\n",
    "                \"survey_type\": SURVEY_TYPE,\n",
    "                \"survey\": SURVEY_NAME,\n",
    "                \"flight\": FLIGHT,\n",
    "                \"date_added_to_dataset\": date_added,\n",
    "            },\n",
    "        }\n",
    "    )\n",
    "\n",
    "    # Load annotation:\n",
    "    annotation_path = img_path.with_suffix(\".json\")\n",
    "    with open(annotation_path) as f:\n",
    "        annotation = json.load(f)\n",
    "\n",
    "    for shape in annotation[\"shapes\"]:\n",
    "        assert shape[\"label\"] == \"maui\"\n",
    "        x0y0, x1y1 = shape[\"points\"]\n",
    "        x0 = int(x0y0[0])\n",
    "        y0 = int(x0y0[1])\n",
    "        w = int(x1y1[0] - x0y0[0])\n",
    "        h = int(x1y1[1] - x0y0[1])\n",
    "        assert w > 0 and h > 0\n",
    "        new_annotation_id = len(last[\"annotations\"])\n",
    "        assert new_annotation_id not in [i[\"id\"] for i in last[\"annotations\"]]\n",
    "        last[\"annotations\"].append(\n",
    "            {\"id\": new_annotation_id, \"image_id\": new_img_id, \"category_id\": 0, \"bbox\": [x0, y0, w, h]}\n",
    "        )\n",
    "\n",
    "assert len(last[\"images\"]) == len(set(i[\"id\"] for i in last[\"images\"]))\n",
    "assert len(last[\"images\"]) == len(set(i[\"image_id\"] for i in last[\"annotations\"]))\n",
    "assert len(last[\"annotations\"]) == len(set(i[\"id\"] for i in last[\"annotations\"]))"
   ]
  },
  {
   "cell_type": "code",
   "execution_count": 4,
   "metadata": {},
   "outputs": [],
   "source": [
    "# Now save it\n",
    "NEW_ANNOTATION_DIR.mkdir(exist_ok=True)\n",
    "with open(NEW_ANNOTATION_DIR / \"all.json\", \"w\") as f:\n",
    "    json.dump(last, f, indent=2)"
   ]
  },
  {
   "cell_type": "code",
   "execution_count": 7,
   "metadata": {},
   "outputs": [],
   "source": [
    "import shutil\n",
    "\n",
    "# Copy it over\n",
    "imgdir = NEW_ANNOTATION_DIR / \"all\"\n",
    "imgdir.mkdir(exist_ok=True, parents=True)\n",
    "\n",
    "# Copy old ones:\n",
    "for img in (LAST_ANNOTATION_DIR / \"all\").iterdir():\n",
    "    shutil.copy(img, imgdir / img.name)\n",
    "\n",
    "# Copy new ones - the raw image:\n",
    "for img_path in imgs_to_copy:\n",
    "    shutil.copy(img_path, imgdir / img_path.name)\n",
    "\n",
    "# Check it all makes sense\n",
    "assert len(list(imgdir.iterdir())) == len(last[\"images\"])\n",
    "for img in last[\"images\"]:\n",
    "    assert (imgdir / img[\"file_name\"]).exists()\n",
    "\n",
    "# Save the annotation\n",
    "with open(NEW_ANNOTATION_DIR / \"all.json\", \"w\") as f:\n",
    "    json.dump(last, f, indent=2)"
   ]
  }
 ],
 "metadata": {
  "kernelspec": {
   "display_name": "base",
   "language": "python",
   "name": "python3"
  },
  "language_info": {
   "codemirror_mode": {
    "name": "ipython",
    "version": 3
   },
   "file_extension": ".py",
   "mimetype": "text/x-python",
   "name": "python",
   "nbconvert_exporter": "python",
   "pygments_lexer": "ipython3",
   "version": "3.8.12"
  }
 },
 "nbformat": 4,
 "nbformat_minor": 2
}
