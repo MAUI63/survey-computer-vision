{
 "cells": [
  {
   "cell_type": "code",
   "execution_count": 1,
   "metadata": {},
   "outputs": [],
   "source": [
    "import _fixpath\n",
    "from pathlib import Path\n",
    "import constants\n",
    "\n",
    "MEDIA_ROOT = Path(\"/media/ko/MAUI63/2025-08-maui-winter-survey/\")\n",
    "ODIR = constants.TMP_DIR / \"2025-08-maui-winter-survey-false-positives.fullres\""
   ]
  },
  {
   "cell_type": "code",
   "execution_count": 2,
   "metadata": {},
   "outputs": [
    {
     "name": "stdout",
     "output_type": "stream",
     "text": [
      "Found 160829 inference files\n"
     ]
    }
   ],
   "source": [
    "import json\n",
    "from tqdm import tqdm\n",
    "\n",
    "# Get all the inferences:\n",
    "inference_files = []\n",
    "for daydir in MEDIA_ROOT.iterdir():\n",
    "    if not daydir.is_dir():\n",
    "        continue\n",
    "    for path in (daydir / \"inferences\").rglob(\"*.json\"):\n",
    "        splat = path.parts\n",
    "        camera = path.parts[-4]\n",
    "        day = path.parts[-6]\n",
    "        folder = path.parts[-2]\n",
    "        img_path = MEDIA_ROOT / day / \"cameras\" / camera / \"DCIM\" / folder / (path.stem + \".JPG\")\n",
    "        assert img_path.exists(), f\"Image path does not exist: {img_path}\"\n",
    "        inference_files.append((path, img_path))\n",
    "print(f\"Found {len(inference_files)} inference files\")"
   ]
  },
  {
   "cell_type": "code",
   "execution_count": 3,
   "metadata": {},
   "outputs": [
    {
     "name": "stderr",
     "output_type": "stream",
     "text": [
      "100%|██████████| 160829/160829 [00:02<00:00, 63445.96it/s]\n"
     ]
    }
   ],
   "source": [
    "# Read detections\n",
    "all_inferences = []\n",
    "for fpath, img_path in tqdm(inference_files):\n",
    "    with open(fpath) as json_file:\n",
    "        data = json.load(json_file)\n",
    "        all_inferences.append((fpath, img_path, data))"
   ]
  },
  {
   "cell_type": "code",
   "execution_count": 4,
   "metadata": {},
   "outputs": [
    {
     "name": "stdout",
     "output_type": "stream",
     "text": [
      "Found 15172 inference files with detections\n"
     ]
    }
   ],
   "source": [
    "# Filter to those only with detections:\n",
    "all_inferences = [(fpath, img_path, data) for fpath, img_path, data in all_inferences if len(data) > 0]\n",
    "print(f\"Found {len(all_inferences)} inference files with detections\")"
   ]
  },
  {
   "cell_type": "code",
   "execution_count": 5,
   "metadata": {},
   "outputs": [
    {
     "name": "stderr",
     "output_type": "stream",
     "text": [
      "100%|██████████| 15172/15172 [00:06<00:00, 2342.22it/s]\n"
     ]
    },
    {
     "data": {
      "image/png": "[encoded data removed]",
      "text/plain": [
       "<Figure size 640x480 with 1 Axes>"
      ]
     },
     "metadata": {},
     "output_type": "display_data"
    }
   ],
   "source": [
    "from img_utils import get_exif_lazy\n",
    "import matplotlib.pyplot as plt\n",
    "\n",
    "# Filter to only images with a reasonable ISO. Why? Because very high ISO images are often very noisy and blurry and sea is darker ... and whitecaps look like submerged dolphins. Don't want that.\n",
    "isos = []\n",
    "for fpath, img_path, data in tqdm(all_inferences):\n",
    "    exif = get_exif_lazy(img_path)\n",
    "    iso = int(exif[\"photographic_sensitivity\"])\n",
    "    isos.append(iso)\n",
    "\n",
    "# Plot histogram of ISOs:\n",
    "plt.hist(isos, bins=50)\n",
    "plt.xlabel(\"ISO\")\n",
    "plt.ylabel(\"Count\")\n",
    "plt.title(\"Histogram of ISOs for images with detections\")\n",
    "plt.show()\n"
   ]
  },
  {
   "cell_type": "code",
   "execution_count": 6,
   "metadata": {},
   "outputs": [
    {
     "name": "stdout",
     "output_type": "stream",
     "text": [
      "Found 8744 inference files with detections and ISO <= 1600\n"
     ]
    }
   ],
   "source": [
    "# OK, only include those with ISO <= 1600\n",
    "all_inferences = [(fpath, img_path, data) for (fpath, img_path, data), iso in zip(all_inferences, isos) if iso <= 1600]\n",
    "print(f\"Found {len(all_inferences)} inference files with detections and ISO <= 1600\")"
   ]
  },
  {
   "cell_type": "code",
   "execution_count": 7,
   "metadata": {},
   "outputs": [
    {
     "name": "stdout",
     "output_type": "stream",
     "text": [
      "Found 4162 inference files with detections and ISO <= 1600 and not on ignored days ({'2025-08-16'})\n"
     ]
    }
   ],
   "source": [
    "# Ignore those on particular dates (more chop in water etc.):\n",
    "ignore_days = {\"2025-08-16\"}\n",
    "all_inferences = [\n",
    "    (fpath, img_path, data) for (fpath, img_path, data) in all_inferences if fpath.parts[-6] not in ignore_days\n",
    "]\n",
    "print(\n",
    "    f\"Found {len(all_inferences)} inference files with detections and ISO <= 1600 and not on ignored days ({ignore_days})\"\n",
    ")"
   ]
  },
  {
   "cell_type": "code",
   "execution_count": 8,
   "metadata": {},
   "outputs": [
    {
     "ename": "AssertionError",
     "evalue": "",
     "output_type": "error",
     "traceback": [
      "\u001b[31m---------------------------------------------------------------------------\u001b[39m",
      "\u001b[31mAssertionError\u001b[39m                            Traceback (most recent call last)",
      "\u001b[36mCell\u001b[39m\u001b[36m \u001b[39m\u001b[32mIn[8]\u001b[39m\u001b[32m, line 1\u001b[39m\n\u001b[32m----> \u001b[39m\u001b[32m1\u001b[39m \u001b[38;5;28;01massert\u001b[39;00m \u001b[38;5;28;01mFalse\u001b[39;00m\n",
      "\u001b[31mAssertionError\u001b[39m: "
     ]
    }
   ],
   "source": [
    "assert False"
   ]
  },
  {
   "cell_type": "code",
   "execution_count": 9,
   "metadata": {},
   "outputs": [
    {
     "name": "stderr",
     "output_type": "stream",
     "text": [
      "100%|██████████| 1000/1000 [29:56<00:00,  1.80s/it]\n"
     ]
    },
    {
     "name": "stdout",
     "output_type": "stream",
     "text": [
      "Num visualizers still processing: 0\n"
     ]
    }
   ],
   "source": [
    "# Order highest to lowest by score and get top\n",
    "\n",
    "# Note that it'd be tempting to crop around the detection - let's not. Why? Because a) it'll be in the center or same location always, and b)\n",
    "# it means we can't take random crops around it later in the data prep stage. The downside is that we then risk including other false\n",
    "# detections in the image, but maybe ones we wanted to exclude. (E.g. maybe the one we wanted was a patch of kelp, but there was also a\n",
    "# false detection in the image that really really looked like a maui - leaving that there un-annotated could end up providing training\n",
    "# data saying \"this other thing is NOT a maui\" which is not what we want.) So, what we'll do is we'll mask them all out in black.\n",
    "\n",
    "import shutil\n",
    "import time\n",
    "import importlib\n",
    "import visualizer\n",
    "\n",
    "importlib.reload(visualizer)\n",
    "\n",
    "from visualizer import ThreadedVisualizer\n",
    "from PIL import Image, ImageDraw\n",
    "from common import Annotation, Detection\n",
    "from img_utils import remove_exif_orientation_if_needed\n",
    "\n",
    "N = 1000\n",
    "out_inferences = sorted(all_inferences, key=lambda x: max([i[\"score\"] for i in x[2]]), reverse=True)[:N]\n",
    "\n",
    "n_vis = 4\n",
    "visualizers = [ThreadedVisualizer(title_prefix=\"False Positives\") for i in range(n_vis)]\n",
    "\n",
    "# Make review images:\n",
    "oreview_dir = ODIR / \"review\"\n",
    "oreview_dir.mkdir(parents=True, exist_ok=True)\n",
    "\n",
    "# Go through each image, and export the image and detections to a new directory:\n",
    "oimg_dir = ODIR / \"images\"\n",
    "oannotations_dir = ODIR / \"annotations\"\n",
    "oimg_dir.mkdir(parents=True, exist_ok=True)\n",
    "oannotations_dir.mkdir(parents=True, exist_ok=True)\n",
    "ODIR.mkdir(parents=True, exist_ok=True)\n",
    "\n",
    "for idx, (a_path, img_path, detections) in tqdm(list(enumerate(out_inferences))):\n",
    "    oname = str(Path(f\"{idx:05d}___{str(img_path.relative_to(MEDIA_ROOT)).replace('/', '__')}\").stem)\n",
    "    oimg_path = oimg_dir / (oname + img_path.suffix)\n",
    "    assert not oimg_path.exists()\n",
    "    # Remove exif orientation if needed:\n",
    "    remove_exif_orientation_if_needed(img_path, oimg_path, validate=True)\n",
    "    # Load it now we've fixed orientation:\n",
    "    img = Image.open(oimg_path)\n",
    "    # Take crop around highest scoring detection:\n",
    "    assert len(detections) > 0\n",
    "    annotations = [Detection(**d) for d in detections]\n",
    "    sorted_anns = sorted(annotations, key=lambda x: x.score, reverse=True)\n",
    "    target = sorted_anns[0]\n",
    "    maskers = sorted_anns[1:]\n",
    "    # First mask:\n",
    "    draw = ImageDraw.Draw(img)\n",
    "    for b in maskers:\n",
    "        # Only mask if it's not overlapping with target:\n",
    "        if b.iou(target) < 0.1:\n",
    "            draw.rectangle([b.x0, b.y0, b.x1, b.y1], fill=\"black\")\n",
    "    del draw\n",
    "\n",
    "    # Done. Save (over top of first one with fixed orientation):\n",
    "    img.save(oimg_path)\n",
    "\n",
    "    # Write detections for this image:\n",
    "    with open(oannotations_dir / (oname + \".json\"), \"w\") as f:\n",
    "        json.dump([target.to_dict()], f, indent=2)\n",
    "\n",
    "    # Visualize:\n",
    "    vis_idx = idx % n_vis\n",
    "    vis = visualizers[vis_idx]\n",
    "    vis.visualize(\n",
    "        image_as_pil=img,\n",
    "        img_path=str(oimg_path),\n",
    "        out_path=oreview_dir / f\"{oname}.jpg\",\n",
    "        detections=[target],\n",
    "        annotations=None,\n",
    "    )\n",
    "\n",
    "while any([not vis.empty() for vis in visualizers]):\n",
    "    time.sleep(1)\n",
    "    print(\"Num visualizers still processing:\", sum([vis.size() for vis in visualizers]))"
   ]
  },
  {
   "cell_type": "code",
   "execution_count": null,
   "metadata": {},
   "outputs": [
    {
     "ename": "AssertionError",
     "evalue": "Read the above!",
     "output_type": "error",
     "traceback": [
      "\u001b[31m---------------------------------------------------------------------------\u001b[39m",
      "\u001b[31mAssertionError\u001b[39m                            Traceback (most recent call last)",
      "\u001b[36mCell\u001b[39m\u001b[36m \u001b[39m\u001b[32mIn[9]\u001b[39m\u001b[32m, line 4\u001b[39m\n\u001b[32m      1\u001b[39m \u001b[38;5;66;03m# OK, go and delete images from oreview_dir that you don't want. Focus on keeping those that are obviously false e.g. seaweed or land or sun glint.\u001b[39;00m\n\u001b[32m      2\u001b[39m \u001b[38;5;66;03m# Oh, and delete mauis! If it looks like it could be a submerged dolphin (even if it's a blurred white cap) - keep it ... we don't want to discourage the\u001b[39;00m\n\u001b[32m      3\u001b[39m \u001b[38;5;66;03m# model from detecting those.\u001b[39;00m\n\u001b[32m----> \u001b[39m\u001b[32m4\u001b[39m \u001b[38;5;28;01massert\u001b[39;00m \u001b[38;5;28;01mFalse\u001b[39;00m, \u001b[33m\"\u001b[39m\u001b[33mRead the above!\u001b[39m\u001b[33m\"\u001b[39m\n",
      "\u001b[31mAssertionError\u001b[39m: Read the above!"
     ]
    }
   ],
   "source": [
    "# OK, go and delete images from oreview_dir that you don't want. Focus on keeping those that are obviously false e.g. seaweed or land or sun glint.\n",
    "# Oh, and delete mauis! If it looks like it could be a submerged dolphin (even if it's a blurred white cap) - keep it ... we don't want to discourage the\n",
    "# model from detecting those.\n",
    "assert False, \"Read the above!\""
   ]
  },
  {
   "cell_type": "code",
   "execution_count": null,
   "metadata": {},
   "outputs": [],
   "source": [
    "import random\n",
    "\n",
    "TRAIN_PPN = 0.9\n",
    "\n",
    "# Now make a dataset from selected ones, inc. train test split\n",
    "\n",
    "# Get labels\n",
    "stems_to_keep = [fpath.stem for fpath in oreview_dir.iterdir()]\n",
    "\n",
    "n_train = int(len(stems_to_keep) * TRAIN_PPN)\n",
    "train = set(random.sample(stems_to_keep, n_train))\n",
    "test = set(stems_to_keep) - train\n",
    "assert len(train) + len(test) == len(stems_to_keep)\n",
    "assert not train.intersection(test)"
   ]
  },
  {
   "cell_type": "code",
   "execution_count": null,
   "metadata": {},
   "outputs": [],
   "source": [
    "import json\n",
    "from pathlib import Path\n",
    "import shutil\n",
    "from PIL import Image\n",
    "\n",
    "\n",
    "def make_coco(split, dolphin_name, img_root, label_root, stems, odir: Path):\n",
    "    imgdir = odir / split\n",
    "    if imgdir.exists():\n",
    "        shutil.rmtree(imgdir)\n",
    "    imgdir.mkdir(parents=True)\n",
    "    all_images = []\n",
    "    all_annotations = []\n",
    "    for stem in sorted(list(stems)):\n",
    "        img_path = img_root / f\"{stem}.JPG\"\n",
    "        assert img_path.exists(), f\"Image path does not exist: {img_path}\"\n",
    "        label_path = label_root / f\"{stem}.json\"\n",
    "        assert label_path.exists(), f\"Label path does not exist: {label_path}\"\n",
    "        shutil.copy(img_path, imgdir)\n",
    "        # coco\n",
    "        img = Image.open(img_path)\n",
    "        width, height = img.size\n",
    "        # annotations first\n",
    "        annotations = []\n",
    "        with open(label_path) as f:\n",
    "            for label in json.load(f):\n",
    "                x0 = int(label[\"x0\"])\n",
    "                y0 = int(label[\"y0\"])\n",
    "                x1 = int(label[\"x1\"])\n",
    "                y1 = int(label[\"y1\"])\n",
    "                w = x1 - x0\n",
    "                h = y1 - y0\n",
    "                annotations.append(\n",
    "                    dict(\n",
    "                        id=len(all_annotations),\n",
    "                        image_id=len(all_images),\n",
    "                        bbox=[x0, y0, w, h],\n",
    "                        area=w * h,\n",
    "                        category_id=0,\n",
    "                    )\n",
    "                )\n",
    "\n",
    "        # Add both if we succeeded\n",
    "        all_annotations.extend(annotations)\n",
    "        all_images.append(dict(file_name=img_path.name, height=height, width=width, id=len(all_images)))\n",
    "\n",
    "    categories = [dict(id=0, name=dolphin_name)]\n",
    "    with open(odir / f\"{split}.json\", \"w\") as f:\n",
    "        json.dump(dict(images=all_images, annotations=all_annotations, categories=categories), f, indent=2)\n",
    "\n",
    "\n",
    "make_coco(\"train\", \"false-positive\", oimg_dir, oannotations_dir, train, ODIR / \"final\")\n",
    "make_coco(\"test\", \"false-positive\", oimg_dir, oannotations_dir, test, ODIR / \"final\")"
   ]
  },
  {
   "cell_type": "code",
   "execution_count": null,
   "metadata": {},
   "outputs": [],
   "source": [
    "# Save the meta:\n",
    "with open(ODIR / \"final\" / \"meta.json\", \"w\") as f:\n",
    "    json.dump({\"gsd\": 2.6}, f, indent=2)"
   ]
  }
 ],
 "metadata": {
  "kernelspec": {
   "display_name": "cv",
   "language": "python",
   "name": "python3"
  },
  "language_info": {
   "codemirror_mode": {
    "name": "ipython",
    "version": 3
   },
   "file_extension": ".py",
   "mimetype": "text/x-python",
   "name": "python",
   "nbconvert_exporter": "python",
   "pygments_lexer": "ipython3",
   "version": "3.12.11"
  }
 },
 "nbformat": 4,
 "nbformat_minor": 2
}
