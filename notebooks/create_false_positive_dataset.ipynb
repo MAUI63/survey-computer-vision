{
 "cells": [
  {
   "cell_type": "code",
   "execution_count": 9,
   "metadata": {},
   "outputs": [
    {
     "name": "stdout",
     "output_type": "stream",
     "text": [
      "582\n",
      "582\n"
     ]
    }
   ],
   "source": [
    "import random\n",
    "import _fixpath\n",
    "\n",
    "import constants\n",
    "\n",
    "SOURCE_DIR = constants.ROOT_DIR / \".ignore\" / \"all_action_inferences\"\n",
    "DATA_DIR = constants.DATA_DIR / \"fullsize\" / \"202404-false-positives-first-action-aviation-survey\"\n",
    "LABEL_ROOT = SOURCE_DIR / \"annotations\"\n",
    "IMG_ROOT = SOURCE_DIR / \"imgs\"\n",
    "TRAIN_PPN = 0.9\n",
    "\n",
    "# Get labels\n",
    "labels = sorted(LABEL_ROOT.iterdir())\n",
    "imgs = sorted(IMG_ROOT.iterdir())\n",
    "\n",
    "print(len(labels))\n",
    "print(len(imgs))\n",
    "label_stems = set([p.name.replace(\".JPG.json\", \"\") for p in labels])\n",
    "img_stems = set([p.stem for p in imgs])\n",
    "assert len(label_stems) == len(labels)\n",
    "assert len(img_stems) == len(imgs)\n",
    "assert not label_stems.symmetric_difference(img_stems)\n",
    "\n",
    "n_train = int(len(label_stems) * TRAIN_PPN)\n",
    "train = set(random.sample(label_stems, n_train))\n",
    "test = label_stems.symmetric_difference(train)\n",
    "assert len(train) + len(test) == len(label_stems)\n",
    "assert not train.intersection(test)"
   ]
  },
  {
   "cell_type": "code",
   "execution_count": 10,
   "metadata": {},
   "outputs": [],
   "source": [
    "import json\n",
    "from pathlib import Path\n",
    "import shutil\n",
    "from PIL import Image\n",
    "\n",
    "\n",
    "def make_coco(split, dolphin_name, img_root, label_root, stems, odir: Path):\n",
    "    imgdir = odir / split\n",
    "    if imgdir.exists():\n",
    "        shutil.rmtree(imgdir)\n",
    "    imgdir.mkdir(parents=True)\n",
    "    all_images = []\n",
    "    all_annotations = []\n",
    "    for stem in sorted(list(stems)):\n",
    "        img_path = img_root / f\"{stem}.JPG\"\n",
    "        label_path = label_root / f\"{stem}.JPG.json\"\n",
    "        shutil.copy(img_path, imgdir)\n",
    "        try:\n",
    "            # coco\n",
    "            img = Image.open(img_path)\n",
    "            width, height = img.size\n",
    "            # annotations first\n",
    "            annotations = []\n",
    "            with open(label_path) as f:\n",
    "                for label in json.load(f):\n",
    "                    x0 = int(label[\"x0\"])\n",
    "                    y0 = int(label[\"y0\"])\n",
    "                    x1 = int(label[\"x1\"])\n",
    "                    y1 = int(label[\"y1\"])\n",
    "                    w = x1 - x0\n",
    "                    h = y1 - y0\n",
    "                    annotations.append(\n",
    "                        dict(\n",
    "                            id=len(all_annotations),\n",
    "                            image_id=len(all_images),\n",
    "                            bbox=[x0, y0, w, h],\n",
    "                            area=w * h,\n",
    "                            category_id=0,\n",
    "                        )\n",
    "                    )\n",
    "\n",
    "            # Add both if we succeeded\n",
    "            all_annotations.append(annotations)\n",
    "            all_images.append(dict(file_name=img_path.name, height=height, width=width, id=len(all_images)))\n",
    "\n",
    "        except:  # NOQA\n",
    "            print(f\"Failed to parse annotations for {stem}\")\n",
    "\n",
    "    categories = [dict(id=0, name=dolphin_name)]\n",
    "    with open(odir / f\"{split}.json\", \"w\") as f:\n",
    "        json.dump(dict(images=all_images, annotations=all_annotations, categories=categories), f, indent=2)\n",
    "\n",
    "\n",
    "make_coco(\"train\", \"false-positive\", IMG_ROOT, LABEL_ROOT, train, DATA_DIR)\n",
    "make_coco(\"test\", \"false-positive\", IMG_ROOT, LABEL_ROOT, test, DATA_DIR)"
   ]
  }
 ],
 "metadata": {
  "kernelspec": {
   "display_name": "base",
   "language": "python",
   "name": "python3"
  },
  "language_info": {
   "codemirror_mode": {
    "name": "ipython",
    "version": 3
   },
   "file_extension": ".py",
   "mimetype": "text/x-python",
   "name": "python",
   "nbconvert_exporter": "python",
   "pygments_lexer": "ipython3",
   "version": "3.8.12"
  }
 },
 "nbformat": 4,
 "nbformat_minor": 2
}
