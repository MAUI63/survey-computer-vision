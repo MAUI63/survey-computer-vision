{
 "cells": [
  {
   "cell_type": "code",
   "execution_count": null,
   "metadata": {},
   "outputs": [
    {
     "name": "stdout",
     "output_type": "stream",
     "text": [
      "Found 3101 inferences from 14952 with something\n"
     ]
    }
   ],
   "source": [
    "import json\n",
    "from pathlib import Path\n",
    "\n",
    "\n",
    "RESULTS_DIR = Path(\n",
    "    \"/workspaces/cv/data/inferences/20240815_060150-yolov9-c-20240815-maui/640x640_0.2x0.2/0.01/action-aviation-multicamera/20250405_west_coast_4camera/flight_1\"\n",
    ")\n",
    "\n",
    "all_inferences = []\n",
    "n_inferences = 0\n",
    "min_score = 0.01\n",
    "inference_dir = RESULTS_DIR / \"inferences\"\n",
    "assert inference_dir.exists()\n",
    "for fpath in sorted(inference_dir.iterdir()):\n",
    "    n_inferences += 1\n",
    "    if n_inferences % 1000 == 0:\n",
    "        print(n_inferences, end=\"\\r\")\n",
    "    with open(fpath) as f:\n",
    "        inference = json.load(f)\n",
    "    inference = [i for i in inference if i[\"score\"] >= min_score]\n",
    "    if inference:\n",
    "        img_path = RESULTS_DIR / \"visuals_with_gt\" / f\"{fpath.stem}.jpg\"\n",
    "        if not img_path.exists():\n",
    "            print(\"No image!\", img_path)\n",
    "            continue\n",
    "        all_inferences.append((inference, inference_dir.name, RESULTS_DIR.name, img_path))\n",
    "print(f\"Found {len(all_inferences)} inferences from {n_inferences} with something\")"
   ]
  },
  {
   "cell_type": "code",
   "execution_count": 3,
   "metadata": {},
   "outputs": [
    {
     "name": "stdout",
     "output_type": "stream",
     "text": [
      "3100\r"
     ]
    }
   ],
   "source": [
    "# OK, copy them over and order by score\n",
    "import shutil\n",
    "import os\n",
    "\n",
    "odir = Path(\"/workspaces/cv/.tmp/all_inferences\")\n",
    "if odir.exists():\n",
    "    print(\"=> removing existing\")\n",
    "    shutil.rmtree(odir)\n",
    "    print(\"=> done removing\")\n",
    "odir.mkdir(exist_ok=True, parents=True)\n",
    "for idx, (inference, survey, flight, imgpath) in enumerate(all_inferences):\n",
    "    if idx % 100 == 0:\n",
    "        print(idx, end=\"\\r\")\n",
    "    opath = odir / f\"{survey}__{flight}__{imgpath.name}\"\n",
    "    shutil.copy(imgpath, opath)"
   ]
  }
 ],
 "metadata": {
  "kernelspec": {
   "display_name": "base",
   "language": "python",
   "name": "python3"
  },
  "language_info": {
   "codemirror_mode": {
    "name": "ipython",
    "version": 3
   },
   "file_extension": ".py",
   "mimetype": "text/x-python",
   "name": "python",
   "nbconvert_exporter": "python",
   "pygments_lexer": "ipython3",
   "version": "3.8.12"
  }
 },
 "nbformat": 4,
 "nbformat_minor": 2
}
