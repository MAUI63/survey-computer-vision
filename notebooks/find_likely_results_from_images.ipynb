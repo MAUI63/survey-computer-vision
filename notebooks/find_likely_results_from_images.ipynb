{
   "cells": [
      {
         "cell_type": "code",
         "execution_count": 1,
         "metadata": {},
         "outputs": [
            {
               "name": "stdout",
               "output_type": "stream",
               "text": [
                  "Processing /workspaces/cv/data/inferences/20240815_060150-yolov9-c-20240815-maui/640x640_0.2x0.2/0.01_0.5/20240822-r09\n",
                  "Found 211 inferences from 7560 with something\n"
               ]
            }
         ],
         "source": [
            "import json\n",
            "from pathlib import Path\n",
            "import shutil\n",
            "from typing import List, Tuple\n",
            "\n",
            "\n",
            "def get_images_with_something(root_dir: Path, min_score: float = 0.00):\n",
            "    with_something = []\n",
            "    n_inferences = 0\n",
            "    inference_dir = root_dir / \"inferences\"\n",
            "    img_dir = root_dir / \"visuals_with_gt\"\n",
            "    for fpath in sorted(inference_dir.rglob(\"*.json\")):\n",
            "        n_inferences += 1\n",
            "        try:\n",
            "            with open(fpath) as f:\n",
            "                detections = json.load(f)\n",
            "        except json.JSONDecodeError:\n",
            "            raise RuntimeError(f\"Error decoding file {fpath}\")\n",
            "        detections_with_something = [i for i in detections if i[\"score\"] >= min_score]\n",
            "        if detections_with_something:\n",
            "            img_path = img_dir / fpath.parent.relative_to(inference_dir) / f\"{fpath.stem}.jpg\"\n",
            "            if not img_path.exists():\n",
            "                print(\"No image!\", img_path)\n",
            "                continue\n",
            "            with_something.append((img_path, img_path.relative_to(img_dir)))\n",
            "    print(f\"Found {len(with_something)} inferences from {n_inferences} with something\")\n",
            "    return with_something\n",
            "\n",
            "\n",
            "def copy_to_dir(odir: Path, with_something: List[Tuple[Path, Path]]):\n",
            "    for imgpath, relpath in with_something:\n",
            "        opath = odir / relpath.parent / f\"{imgpath.name}\"\n",
            "        if not opath.exists():\n",
            "            opath.parent.mkdir(exist_ok=True, parents=True)\n",
            "            shutil.copy(imgpath, opath)\n",
            "\n",
            "\n",
            "def process_dir(root_dir: Path, min_score: float = 0.00):\n",
            "    with_something = get_images_with_something(root_dir, min_score)\n",
            "    if not with_something:\n",
            "        print(\"No images found\")\n",
            "        return\n",
            "    odir = root_dir / \"to-review-ie-with-something\"\n",
            "    odir.mkdir(exist_ok=True, parents=True)\n",
            "    copy_to_dir(odir, with_something)\n",
            "\n",
            "\n",
            "for res_dir in sorted(\n",
            "    Path(\"/workspaces/cv/data/inferences/20240815_060150-yolov9-c-20240815-maui/640x640_0.2x0.2/0.01_0.5\").iterdir()\n",
            "):\n",
            "    if res_dir.is_dir():\n",
            "        if (res_dir / \"reviewed\").exists():\n",
            "            continue\n",
            "        print(f\"Processing {res_dir}\")\n",
            "        process_dir(res_dir)"
         ]
      },
      {
         "cell_type": "code",
         "execution_count": null,
         "metadata": {},
         "outputs": [
            {
               "name": "stdout",
               "output_type": "stream",
               "text": [
                  "3100\r"
               ]
            }
         ],
         "source": [
            "\n"
         ]
      }
   ],
   "metadata": {
      "kernelspec": {
         "display_name": "base",
         "language": "python",
         "name": "python3"
      },
      "language_info": {
         "codemirror_mode": {
            "name": "ipython",
            "version": 3
         },
         "file_extension": ".py",
         "mimetype": "text/x-python",
         "name": "python",
         "nbconvert_exporter": "python",
         "pygments_lexer": "ipython3",
         "version": "3.8.12"
      }
   },
   "nbformat": 4,
   "nbformat_minor": 2
}