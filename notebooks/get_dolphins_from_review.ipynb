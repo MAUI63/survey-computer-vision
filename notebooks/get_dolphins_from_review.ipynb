{
 "cells": [
  {
   "cell_type": "code",
   "execution_count": null,
   "metadata": {},
   "outputs": [],
   "source": []
  },
  {
   "cell_type": "code",
   "execution_count": null,
   "metadata": {},
   "outputs": [
    {
     "name": "stdout",
     "output_type": "stream",
     "text": [
      "11844 images found\n",
      "_09R9718.JPG\n",
      "/workspaces/cv/data/inferences/20240815_060150-yolov9-c-20240815-maui/640x640_0.2x0.2/0.01/action-aviation-multicamera/20250331_west_coast_4camera_test/flight_1/visuals_with_gt/_09R9718.jpg\n",
      "_09R9859.JPG\n",
      "/workspaces/cv/data/inferences/20240815_060150-yolov9-c-20240815-maui/640x640_0.2x0.2/0.01/action-aviation-multicamera/20250331_west_coast_4camera_test/flight_1/visuals_with_gt/_09R9859.jpg\n",
      "_09R0501.JPG\n",
      "/workspaces/cv/data/inferences/20240815_060150-yolov9-c-20240815-maui/640x640_0.2x0.2/0.01/action-aviation-multicamera/20250331_west_coast_4camera_test/flight_1/visuals_with_gt/_09R0501.jpg\n",
      "_28L0942.JPG\n",
      "/workspaces/cv/data/inferences/20240815_060150-yolov9-c-20240815-maui/640x640_0.2x0.2/0.01/action-aviation-multicamera/20250331_west_coast_4camera_test/flight_1/visuals_with_gt/_28L0942.jpg\n",
      "_28L0943.JPG\n",
      "/workspaces/cv/data/inferences/20240815_060150-yolov9-c-20240815-maui/640x640_0.2x0.2/0.01/action-aviation-multicamera/20250331_west_coast_4camera_test/flight_1/visuals_with_gt/_28L0943.jpg\n",
      "_28L1004.JPG\n",
      "/workspaces/cv/data/inferences/20240815_060150-yolov9-c-20240815-maui/640x640_0.2x0.2/0.01/action-aviation-multicamera/20250331_west_coast_4camera_test/flight_1/visuals_with_gt/_28L1004.jpg\n",
      "_28L2449.JPG\n",
      "/workspaces/cv/data/inferences/20240815_060150-yolov9-c-20240815-maui/640x640_0.2x0.2/0.01/action-aviation-multicamera/20250331_west_coast_4camera_test/flight_1/visuals_with_gt/_28L2449.jpg\n",
      "_28L2450.JPG\n",
      "/workspaces/cv/data/inferences/20240815_060150-yolov9-c-20240815-maui/640x640_0.2x0.2/0.01/action-aviation-multicamera/20250331_west_coast_4camera_test/flight_1/visuals_with_gt/_28L2450.jpg\n",
      "_09L0918.JPG\n",
      "/workspaces/cv/data/inferences/20240815_060150-yolov9-c-20240815-maui/640x640_0.2x0.2/0.01/action-aviation-multicamera/20250331_west_coast_4camera_test/flight_1/visuals_with_gt/_09L0918.jpg\n",
      "_09L0919.JPG\n",
      "/workspaces/cv/data/inferences/20240815_060150-yolov9-c-20240815-maui/640x640_0.2x0.2/0.01/action-aviation-multicamera/20250331_west_coast_4camera_test/flight_1/visuals_with_gt/_09L0919.jpg\n",
      "_09L0927.JPG\n",
      "/workspaces/cv/data/inferences/20240815_060150-yolov9-c-20240815-maui/640x640_0.2x0.2/0.01/action-aviation-multicamera/20250331_west_coast_4camera_test/flight_1/visuals_with_gt/_09L0927.jpg\n",
      "_09L1019.JPG\n",
      "/workspaces/cv/data/inferences/20240815_060150-yolov9-c-20240815-maui/640x640_0.2x0.2/0.01/action-aviation-multicamera/20250331_west_coast_4camera_test/flight_1/visuals_with_gt/_09L1019.jpg\n",
      "_09L1818.JPG\n",
      "/workspaces/cv/data/inferences/20240815_060150-yolov9-c-20240815-maui/640x640_0.2x0.2/0.01/action-aviation-multicamera/20250331_west_coast_4camera_test/flight_1/visuals_with_gt/_09L1818.jpg\n",
      "_09L1855.JPG\n",
      "/workspaces/cv/data/inferences/20240815_060150-yolov9-c-20240815-maui/640x640_0.2x0.2/0.01/action-aviation-multicamera/20250331_west_coast_4camera_test/flight_1/visuals_with_gt/_09L1855.jpg\n",
      "_28R2604.JPG\n",
      "/workspaces/cv/data/inferences/20240815_060150-yolov9-c-20240815-maui/640x640_0.2x0.2/0.01/action-aviation-multicamera/20250331_west_coast_4camera_test/flight_1/visuals_with_gt/_28R2604.jpg\n"
     ]
    }
   ],
   "source": [
    "import json\n",
    "from pathlib import Path\n",
    "import shutil\n",
    "\n",
    "imgs = \"\"\"_09R9718.JPG\n",
    "_09R0501.JPG\n",
    "_28L0942.JPG\n",
    "_28L0943.JPG\n",
    "_28L1004.JPG\n",
    "_28L2449.JPG\n",
    "_28L2450.JPG\n",
    "_09L0918.JPG\n",
    "_09L0919.JPG\n",
    "_09L0927.JPG\n",
    "_09L1019.JPG\n",
    "_09L1818.JPG\n",
    "_09L1855.JPG\"\"\"\n",
    "\n",
    "INFERENCE_DIR = Path(\n",
    "    \"/workspaces/cv/data/inferences/20240815_060150-yolov9-c-20240815-maui/640x640_0.2x0.2/0.01/action-aviation-multicamera/20250331_west_coast_4camera_test\"\n",
    ")\n",
    "ODIR = Path(\"/workspaces/cv/.ignore/20250331_west_coast_4camera_test_found\")\n",
    "ODIR.mkdir(exist_ok=True, parents=True)\n",
    "img_paths = [i for i in INFERENCE_DIR.rglob(\"*.jpg\")]\n",
    "print(len(img_paths), \"images found\")\n",
    "for img in imgs.splitlines():\n",
    "    print(img)\n",
    "    img_path = [i for i in img_paths if i.name.lower() == img.lower()]\n",
    "    assert len(img_path) == 1, f\"Found {len(img_path)} for {img}\"\n",
    "    img_path = img_path[0]\n",
    "    print(img_path)\n",
    "    shutil.copy(img_path, ODIR)\n",
    "    shutil.copy(img_path.resolve().parent.parent / \"inferences\" / img_path.with_suffix(\".json\").name, ODIR)"
   ]
  }
 ],
 "metadata": {
  "kernelspec": {
   "display_name": "base",
   "language": "python",
   "name": "python3"
  },
  "language_info": {
   "codemirror_mode": {
    "name": "ipython",
    "version": 3
   },
   "file_extension": ".py",
   "mimetype": "text/x-python",
   "name": "python",
   "nbconvert_exporter": "python",
   "pygments_lexer": "ipython3",
   "version": "3.8.12"
  }
 },
 "nbformat": 4,
 "nbformat_minor": 2
}
