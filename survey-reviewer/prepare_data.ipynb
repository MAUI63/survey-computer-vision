{
 "cells": [
  {
   "cell_type": "code",
   "execution_count": 1,
   "metadata": {},
   "outputs": [],
   "source": [
    "import sys\n",
    "\n",
    "sys.path.append(\"..\")\n",
    "\n",
    "from pathlib import Path\n",
    "from tqdm import tqdm\n",
    "from PIL import Image\n",
    "from drone.action_aviation_multi_camera import ActionAviationMultiCameraFlight"
   ]
  },
  {
   "cell_type": "code",
   "execution_count": null,
   "metadata": {},
   "outputs": [],
   "source": [
    "FLIGHT_DIR = Path(\"/workspaces/cv/data/surveys/action-aviation-multicamera/20250405_west_coast_4camera/flight_1/\")\n",
    "DATA_DIR = Path(\"/workspaces/cv/survey-reviewer/data\")\n",
    "CROP_H = 240"
   ]
  },
  {
   "cell_type": "code",
   "execution_count": 3,
   "metadata": {},
   "outputs": [
    {
     "name": "stderr",
     "output_type": "stream",
     "text": [
      "14952it [00:00, 3063066.98it/s]\n",
      "100%|██████████| 14952/14952 [40:31<00:00,  6.15it/s] \n"
     ]
    },
    {
     "data": {
      "text/plain": [
       "{'idx': 0,\n",
       " 'camera': 'R28',\n",
       " 'name': '_28R3139.JPG',\n",
       " 'time': <Arrow [2025-04-05T13:18:29.012000+13:00]>,\n",
       " 'location': Location(lat=-37.761752452, lon=174.824964298, altitude=478.7575, time=None, image_name=None),\n",
       " 'thumbnail_name': '000000_R28.jpg'}"
      ]
     },
     "execution_count": 3,
     "metadata": {},
     "output_type": "execute_result"
    }
   ],
   "source": [
    "import concurrent.futures\n",
    "\n",
    "# First, thumbnail everything and get the metadata:\n",
    "flight = ActionAviationMultiCameraFlight(FLIGHT_DIR)\n",
    "\n",
    "thumb_dir = DATA_DIR / \"thumbnails\"\n",
    "thumb_dir.mkdir(exist_ok=True, parents=True)\n",
    "img_meta = []\n",
    "\n",
    "\n",
    "def do(img_path, thumb_path):\n",
    "    if not thumb_path.exists():\n",
    "        # Create a thumbnail of the image\n",
    "        img = Image.open(img_path)\n",
    "        h, w = img.height, img.width\n",
    "        crop_h = CROP_H\n",
    "        crop_w = int(CROP_H / h * w)\n",
    "        img.thumbnail((crop_w, crop_h))\n",
    "        # if photo.camera_name.lower() in (\"r28\", \"l09\"):\n",
    "        #     # These cameras are mounted backwards, so rotate 180 degrees:\n",
    "        #     img = img.rotate(180)\n",
    "        # if photo.camera_name.lower() in (\"l28\", \"l09\", \"l28\"):\n",
    "        #     # These cameras are mounted backwards, so rotate 180 degrees:\n",
    "        #     img = img.rotate(180)\n",
    "        img.save(thumb_path)\n",
    "\n",
    "\n",
    "photos = list(sorted(tqdm(flight.get_located_photos()), key=lambda x: x.time))\n",
    "\n",
    "for photo in photos:\n",
    "    thumb_path = thumb_dir / f\"{photo.idx:06d}_{photo.camera_name}.jpg\"\n",
    "    lat, lon = photo.location.lat, photo.location.lon\n",
    "    img_meta.append(\n",
    "        dict(\n",
    "            idx=photo.idx,\n",
    "            camera=photo.camera_name,\n",
    "            name=photo.path.name,\n",
    "            time=photo.time,\n",
    "            location=photo.location,\n",
    "            thumbnail_name=thumb_path.name,\n",
    "        )\n",
    "    )\n",
    "\n",
    "# Create all the thumbs:\n",
    "with concurrent.futures.ThreadPoolExecutor(max_workers=32) as executor:\n",
    "    futures = []\n",
    "    for photo in photos:\n",
    "        thumb_path = thumb_dir / f\"{photo.idx:06d}_{photo.camera_name}.jpg\"\n",
    "        futures.append(executor.submit(do, photo.path, thumb_path))\n",
    "    for future in tqdm(concurrent.futures.as_completed(futures), total=len(futures)):\n",
    "        try:\n",
    "            future.result()\n",
    "        except Exception as e:\n",
    "            print(f\"Error processing thumbnail: {e}\")\n",
    "            continue\n",
    "\n",
    "    # break\n",
    "img_meta[0]\n"
   ]
  },
  {
   "cell_type": "code",
   "execution_count": 5,
   "metadata": {},
   "outputs": [
    {
     "name": "stdout",
     "output_type": "stream",
     "text": [
      "14952\n"
     ]
    },
    {
     "data": {
      "text/plain": [
       "{'idx': 1,\n",
       " 'camera': 'L28',\n",
       " 'name': '_28L0013.JPG',\n",
       " 'time': <Arrow [2025-04-05T13:18:29.012000+13:00]>,\n",
       " 'location': Location(lat=-37.761752452, lon=174.824964298, altitude=478.7575, time=None, image_name=None),\n",
       " 'thumbnail_name': '000001_L28.jpg',\n",
       " 'bounds_lbrt': [[174.81886150325502, -37.763128512489516],\n",
       "  [174.81864202871333, -37.76133503602259],\n",
       "  [174.82203065229197, -37.76107362801284],\n",
       "  [174.82225020865576, -37.76286710456792]]}"
      ]
     },
     "execution_count": 5,
     "metadata": {},
     "output_type": "execute_result"
    }
   ],
   "source": [
    "from copy import deepcopy\n",
    "import pyproj\n",
    "\n",
    "geodesic = pyproj.Geod(ellps=\"WGS84\")\n",
    "\n",
    "# OK, project them. Per camera, get the GPS track\n",
    "unique_cameras = list(set([i[\"camera\"] for i in img_meta]))\n",
    "# TODO: calculate offsets from altitude\n",
    "offsets = {\n",
    "    \"L28\": (-550, -250),\n",
    "    \"L09\": (-250, 0),\n",
    "    \"R09\": (0, 250),\n",
    "    \"R28\": (250, 550),\n",
    "}\n",
    "image_height = 200\n",
    "filtered_imgs = []\n",
    "for c in unique_cameras:\n",
    "    # print(c)\n",
    "    meta = [i for i in img_meta if i[\"camera\"] == c]\n",
    "    meta = sorted(meta, key=lambda x: x[\"time\"])\n",
    "    x0, x1 = offsets[c]\n",
    "    for i in range(len(meta)):\n",
    "        # for i in range(10):\n",
    "        if i == 0:\n",
    "            p0 = meta[i][\"location\"]\n",
    "            p1 = meta[i + 1][\"location\"]\n",
    "        else:\n",
    "            p0 = meta[i - 1][\"location\"]\n",
    "            p1 = meta[i][\"location\"]\n",
    "        bearing, _, _ = geodesic.inv(p0.lon, p0.lat, p1.lon, p1.lat)\n",
    "        # OK, cool. Let's project each image\n",
    "        m = meta[i]\n",
    "        p = m[\"location\"]\n",
    "        forward_lon, forward_lat, _ = geodesic.fwd(p.lon, p.lat, bearing, image_height / 2)\n",
    "        rear_lon, rear_lat, _ = geodesic.fwd(p.lon, p.lat, bearing + 180, image_height / 2)\n",
    "        angle = bearing - 90 if x0 < 0 else bearing + 90\n",
    "        top_left_lon, top_left_lat, _ = geodesic.fwd(forward_lon, forward_lat, angle, abs(x0))\n",
    "        top_right_lon, top_right_lat, _ = geodesic.fwd(forward_lon, forward_lat, angle, abs(x1))\n",
    "        bottom_left_lon, bottom_left_lat, _ = geodesic.fwd(rear_lon, rear_lat, angle, abs(x0))\n",
    "        bottom_right_lon, bottom_right_lat, _ = geodesic.fwd(rear_lon, rear_lat, angle, abs(x1))\n",
    "\n",
    "        # print(p.lon, p.lat, left_lon, bottom_lat, right_lon, top_lat)\n",
    "        m = deepcopy(m)\n",
    "        m[\"bounds_lbrt\"] = [\n",
    "            [bottom_left_lon, bottom_left_lat],\n",
    "            [top_left_lon, top_left_lat],\n",
    "            [top_right_lon, top_right_lat],\n",
    "            [bottom_right_lon, bottom_right_lat],\n",
    "        ]\n",
    "        filtered_imgs.append(m)\n",
    "        # s = [f\"{lon} {lat}\" for lon, lat in m[\"bounds_lbrt\"]]\n",
    "        # s = \", \".join(s)\n",
    "        # print(f\"LINESTRING({s})\")\n",
    "\n",
    "print(len(filtered_imgs))\n",
    "filtered_imgs[0]"
   ]
  },
  {
   "cell_type": "code",
   "execution_count": 6,
   "metadata": {},
   "outputs": [],
   "source": [
    "import json\n",
    "\n",
    "# Save it out:\n",
    "out = []\n",
    "n = max(i[\"idx\"] for i in filtered_imgs)\n",
    "for i in filtered_imgs:\n",
    "    ppn = i[\"idx\"] / n\n",
    "    out.append(\n",
    "        dict(\n",
    "            camera=i[\"camera\"],\n",
    "            name=i[\"name\"],\n",
    "            time=i[\"time\"].strftime(\"%Y-%m-%d %H:%M:%S\"),\n",
    "            flight_ppn=ppn,\n",
    "            location=dict(\n",
    "                lat=round(i[\"location\"].lat, 6), lon=round(i[\"location\"].lon, 6), alt=int(i[\"location\"].altitude)\n",
    "            ),\n",
    "            thumbnail_name=i[\"thumbnail_name\"],\n",
    "            bounds_lbrt=[[round(lon, 6), round(lat, 6)] for lon, lat in i[\"bounds_lbrt\"]],\n",
    "        )\n",
    "    )\n",
    "with open(DATA_DIR / \"imgs.json\", \"w\") as f:\n",
    "    json.dump(out, f)"
   ]
  },
  {
   "cell_type": "code",
   "execution_count": 7,
   "metadata": {},
   "outputs": [],
   "source": [
    "import struct\n",
    "\n",
    "# Encode the images:\n",
    "obites = []\n",
    "for i in filtered_imgs:\n",
    "    with open(thumb_dir / i[\"thumbnail_name\"], \"rb\") as f:\n",
    "        bites = f.read()\n",
    "    obites.append(struct.pack(\">II\", len(i[\"thumbnail_name\"]), len(bites)))\n",
    "    obites.append(i[\"thumbnail_name\"].encode(\"utf-8\"))\n",
    "    obites.append(bites)\n",
    "with open(DATA_DIR / \"imgs.bin\", \"wb\") as f:\n",
    "    for i in obites:\n",
    "        if isinstance(i, bytes):\n",
    "            f.write(i)\n",
    "        else:\n",
    "            f.write(i[0:4])"
   ]
  }
 ],
 "metadata": {
  "kernelspec": {
   "display_name": "base",
   "language": "python",
   "name": "python3"
  },
  "language_info": {
   "codemirror_mode": {
    "name": "ipython",
    "version": 3
   },
   "file_extension": ".py",
   "mimetype": "text/x-python",
   "name": "python",
   "nbconvert_exporter": "python",
   "pygments_lexer": "ipython3",
   "version": "3.8.12"
  }
 },
 "nbformat": 4,
 "nbformat_minor": 2
}
