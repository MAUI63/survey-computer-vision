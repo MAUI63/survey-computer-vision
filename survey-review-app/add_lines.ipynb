{
 "cells": [
  {
   "cell_type": "code",
   "execution_count": null,
   "id": "7fad4160",
   "metadata": {},
   "outputs": [],
   "source": [
    "import json\n",
    "from pathlib import Path\n",
    "import re\n",
    "\n",
    "# Manually create lines using UI\n",
    "\n",
    "p = re.compile(r\"([0-9]+)\\s*(.*)\")\n",
    "lines = []\n",
    "with open(Path(\"./lines.json\"), \"r\") as f:\n",
    "    for idx, l in enumerate(f.readlines()):\n",
    "        m = p.match(l)\n",
    "        line_id, line_text = m.groups()[:2]\n",
    "        if line_id == \"40\":\n",
    "            continue\n",
    "        line_id = int(line_id)\n",
    "        assert idx == line_id - 1\n",
    "        line_data = json.loads(line_text)\n",
    "        line_data[\"line_id\"] = line_id\n",
    "        lines.append(line_data)"
   ]
  },
  {
   "cell_type": "code",
   "execution_count": null,
   "id": "7329f6f7",
   "metadata": {},
   "outputs": [
    {
     "name": "stdout",
     "output_type": "stream",
     "text": [
      "{'lat': -37.807251549, 'lon': 174.837439757, 'alt': 752.6893, 'gps_time': '2025-08-11T22:06:13.129000+00:00', 'images': {'l09': {'path': '2025-08-12/cameras/l09/DCIM/10050812/_09L4188.JPG', 't': '2025-08-12T10:06:12.726765+12:00', 'bounds_lbrt': [[174.83460080877316, -37.80815247380174], [174.8346008777554, -37.80635055564688], [174.837439757, -37.80635058985239], [174.837439757, -37.80815250800946]]}, 'l28': {'path': '2025-08-12/cameras/l28/DCIM/10050812/_28L4173.JPG', 't': '2025-08-12T10:06:12.709647+12:00', 'bounds_lbrt': [[174.83119407090834, -37.80815234244409], [174.83119422266924, -37.806350424297705], [174.8346008777554, -37.80635055564688], [174.83460080877316, -37.80815247380174]]}, 'r09': {'path': '2025-08-12/cameras/r09/DCIM/10050812/_09R4136.JPG', 't': '2025-08-12T10:06:12.889059+12:00', 'bounds_lbrt': [[174.837439757, -37.80815250800946], [174.837439757, -37.80635058985239], [174.8402786362446, -37.80635055564688], [174.84027870522684, -37.80815247380174]]}, 'r28': {'path': '2025-08-12/cameras/r28/DCIM/10050812/_28R7306.JPG', 't': '2025-08-12T10:06:12.729176+12:00', 'bounds_lbrt': [[174.84027870522684, -37.80815247380174], [174.8402786362446, -37.80635055564688], [174.84368529133076, -37.806350424297705], [174.84368544309166, -37.80815234244409]]}}}\n"
     ]
    }
   ],
   "source": [
    "with open(Path(\"./data/frames.json\"), \"r\") as f:\n",
    "    frames = json.load(f)\n",
    "print(frames[0])"
   ]
  },
  {
   "cell_type": "code",
   "execution_count": null,
   "id": "d9a28a8b",
   "metadata": {},
   "outputs": [],
   "source": [
    "for l in lines:\n",
    "    from_idx = l[\"from_idx\"]\n",
    "    to_idx = l[\"to_idx\"]\n",
    "    for f in frames[from_idx : to_idx + 1]:\n",
    "        f[\"line_id\"] = l[\"line_id\"]\n",
    "for f in frames:\n",
    "    if \"line_id\" not in f:\n",
    "        f[\"line_id\"] = None"
   ]
  },
  {
   "cell_type": "code",
   "execution_count": 35,
   "id": "f458bdfd",
   "metadata": {},
   "outputs": [
    {
     "data": {
      "text/plain": [
       "{'lat': -37.830145666,\n",
       " 'lon': 174.726706,\n",
       " 'alt': 715.7115,\n",
       " 'gps_time': '2025-08-11T22:09:40.515000+00:00',\n",
       " 'images': {'l09': {'path': '2025-08-12/cameras/l09/DCIM/10050812/_09L4289.JPG',\n",
       "   't': '2025-08-12T10:09:40.526765+12:00',\n",
       "   'bounds_lbrt': [[174.72845363195515, -37.83213654406664],\n",
       "    [174.72624043785086, -37.832543284877225],\n",
       "    [174.72559939815096, -37.83034903127929],\n",
       "    [174.72781259577445, -37.82994229031676]]},\n",
       "  'l28': {'path': '2025-08-12/cameras/l28/DCIM/10050812/_28L4274.JPG',\n",
       "   't': '2025-08-12T10:09:40.510647+12:00',\n",
       "   'bounds_lbrt': [[174.7292229254942, -37.83476964287887],\n",
       "    [174.72700973561402, -37.83517638350703],\n",
       "    [174.72624043785086, -37.832543284877225],\n",
       "    [174.72845363195515, -37.83213654406664]]},\n",
       "  'r09': {'path': '2025-08-12/cameras/r09/DCIM/10050812/_09R4237.JPG',\n",
       "   't': '2025-08-12T10:09:40.689059+12:00',\n",
       "   'bounds_lbrt': [[174.72781259577445, -37.82994229031676],\n",
       "    [174.72559939815096, -37.83034903127929],\n",
       "    [174.72495839641766, -37.828154773373015],\n",
       "    [174.7271715975596, -37.82774803225858]]},\n",
       "  'r28': {'path': '2025-08-12/cameras/r28/DCIM/10050812/_28R7407.JPG',\n",
       "   't': '2025-08-12T10:09:40.487176+12:00',\n",
       "   'bounds_lbrt': [[174.7271715975596, -37.82774803225858],\n",
       "    [174.72495839641766, -37.828154773373015],\n",
       "    [174.72418924444634, -37.82552165819918],\n",
       "    [174.7264024498094, -37.82511491690255]]}},\n",
       " 'line_id': 1}"
      ]
     },
     "execution_count": 35,
     "metadata": {},
     "output_type": "execute_result"
    }
   ],
   "source": [
    "frames[100]"
   ]
  },
  {
   "cell_type": "code",
   "execution_count": 36,
   "id": "ef7fdd77",
   "metadata": {},
   "outputs": [],
   "source": [
    "with open(Path(\"./data/frames.json\"), \"w\") as f:\n",
    "    json.dump(frames, f)"
   ]
  }
 ],
 "metadata": {
  "kernelspec": {
   "display_name": "cv",
   "language": "python",
   "name": "python3"
  },
  "language_info": {
   "codemirror_mode": {
    "name": "ipython",
    "version": 3
   },
   "file_extension": ".py",
   "mimetype": "text/x-python",
   "name": "python",
   "nbconvert_exporter": "python",
   "pygments_lexer": "ipython3",
   "version": "3.12.11"
  }
 },
 "nbformat": 4,
 "nbformat_minor": 5
}
