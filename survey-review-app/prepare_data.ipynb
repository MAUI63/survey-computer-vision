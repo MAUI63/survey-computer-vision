{
 "cells": [
  {
   "cell_type": "code",
   "execution_count": 1,
   "metadata": {},
   "outputs": [],
   "source": [
    "from pathlib import Path\n",
    "\n",
    "SURVEY_DIR = Path(\"/media/ko/MAUI63/2025-08-maui-winter-survey\")\n",
    "OUTPUT_DIR = Path(\"/workspaces/cv/survey-review-app/data\")"
   ]
  },
  {
   "cell_type": "code",
   "execution_count": 6,
   "metadata": {},
   "outputs": [
    {
     "name": "stdout",
     "output_type": "stream",
     "text": [
      "Ignoring GPS point with 0 satellites\n",
      "Ignoring GPS point with 0 satellites\n",
      "Ignoring GPS point with 0 satellites\n",
      "Ignoring GPS point with 0 satellites\n",
      "Ignoring GPS point with 0 satellites\n",
      "Ignoring GPS point with 0 satellites\n",
      "Ignoring GPS point with 0 satellites\n",
      "Ignoring GPS point with 0 satellites\n",
      "Ignoring GPS point with 0 satellites\n",
      "Ignoring GPS point with 0 satellites\n",
      "Ignoring GPS point with 0 satellites\n",
      "Ignoring GPS point with 0 satellites\n",
      "Ignoring GPS point with 0 satellites\n",
      "Ignoring GPS point with 0 satellites\n",
      "Ignoring GPS point with 0 satellites\n",
      "Ignoring GPS point with 0 satellites\n",
      "Ignoring GPS point with 0 satellites\n",
      "Ignoring GPS point with 0 satellites\n",
      "Ignoring GPS point with 0 satellites\n",
      "Ignoring GPS point with 0 satellites\n",
      "Ignoring GPS point with 0 satellites\n",
      "Ignoring GPS point with 0 satellites\n",
      "Ignoring GPS point with 0 satellites\n",
      "Ignoring GPS point with 0 satellites\n",
      "Ignoring GPS point with 0 satellites\n",
      "Ignoring GPS point with 0 satellites\n",
      "Ignoring GPS point with 0 satellites\n",
      "Ignoring GPS point with 0 satellites\n",
      "Ignoring GPS point with 0 satellites\n",
      "Ignoring GPS point with 0 satellites\n",
      "Ignoring GPS point with 0 satellites\n",
      "Ignoring GPS point with 0 satellites\n",
      "Ignoring GPS point with 0 satellites\n",
      "Ignoring GPS point with 0 satellites\n",
      "Ignoring GPS point with 0 satellites\n",
      "Ignoring GPS point with 0 satellites\n",
      "Ignoring GPS point with 0 satellites\n",
      "Ignoring GPS point with 0 satellites\n",
      "Ignoring GPS point with 0 satellites\n",
      "Ignoring GPS point with 0 satellites\n",
      "Ignoring GPS point with 0 satellites\n",
      "Ignoring GPS point with 0 satellites\n",
      "Ignoring GPS point with 0 satellites\n",
      "Ignoring GPS point with 0 satellites\n",
      "Ignoring GPS point with 0 satellites\n",
      "Ignoring GPS point with 0 satellites\n",
      "Ignoring GPS point with 0 satellites\n",
      "Ignoring GPS point with 0 satellites\n",
      "Ignoring GPS point with 0 satellites\n",
      "Ignoring GPS point with 0 satellites\n",
      "Ignoring GPS point with 0 satellites\n",
      "Ignoring GPS point with 0 satellites\n",
      "Ignoring GPS point with 0 satellites\n",
      "Ignoring GPS point with 0 satellites\n",
      "Ignoring GPS point with 0 satellites\n",
      "Ignoring GPS point with 0 satellites\n",
      "Ignoring GPS point with 0 satellites\n",
      "Ignoring GPS point with 0 satellites\n",
      "Ignoring GPS point with 0 satellites\n",
      "Ignoring GPS point with 0 satellites\n",
      "Ignoring GPS point with 0 satellites\n",
      "Ignoring GPS point with 0 satellites\n",
      "Ignoring GPS point with 0 satellites\n",
      "Ignoring GPS point with 0 satellites\n",
      "Ignoring GPS point with 0 satellites\n",
      "Ignoring GPS point with 0 satellites\n",
      "Ignoring GPS point with 0 satellites\n",
      "Ignoring GPS point with 0 satellites\n",
      "Ignoring GPS point with 0 satellites\n",
      "Ignoring GPS point with 0 satellites\n",
      "Ignoring GPS point with 0 satellites\n",
      "Ignoring GPS point with 0 satellites\n",
      "Ignoring GPS point with 0 satellites\n",
      "Ignoring GPS point with 0 satellites\n",
      "Ignoring GPS point with 0 satellites\n",
      "Ignoring GPS point with 0 satellites\n",
      "Ignoring GPS point with 0 satellites\n",
      "Ignoring GPS point with 0 satellites\n",
      "Ignoring GPS point with 0 satellites\n",
      "Ignoring GPS point with 0 satellites\n",
      "Ignoring GPS point with 0 satellites\n",
      "Ignoring GPS point with 0 satellites\n",
      "Ignoring GPS point with 0 satellites\n",
      "Ignoring GPS point with 0 satellites\n",
      "Ignoring GPS point with 0 satellites\n",
      "Ignoring GPS point with 0 satellites\n",
      "Ignoring GPS point with 0 satellites\n",
      "Ignoring GPS point with 0 satellites\n",
      "Ignoring GPS point with 0 satellites\n",
      "Ignoring GPS point with 0 satellites\n",
      "Ignoring GPS point with 0 satellites\n",
      "Ignoring GPS point with 0 satellites\n",
      "Ignoring GPS point with 0 satellites\n",
      "Ignoring GPS point with 0 satellites\n",
      "Ignoring GPS point with 0 satellites\n",
      "Ignoring GPS point with 0 satellites\n",
      "Ignoring GPS point with 0 satellites\n",
      "Ignoring GPS point with 0 satellites\n",
      "Ignoring GPS point with 0 satellites\n",
      "Ignoring GPS point with 0 satellites\n",
      "Ignoring GPS point with 0 satellites\n",
      "Ignoring GPS point with 0 satellites\n"
     ]
    }
   ],
   "source": [
    "# Get all the frames:\n",
    "from collections import namedtuple\n",
    "from datetime import datetime, timedelta\n",
    "import pytz\n",
    "\n",
    "GpsTriggerEvent = namedtuple(\"GpsTriggerEvent\", [\"time\", \"lat\", \"lon\", \"alt\", \"ignore\", \"line_idx\"])\n",
    "\n",
    "# Parse the GPS data:\n",
    "gps_points = []\n",
    "for fpath in sorted(SURVEY_DIR.rglob(\"*.CAM\")):\n",
    "    # Parse the start time from the filename:\n",
    "    # Read the files:\n",
    "    with open(fpath, \"r\") as f:\n",
    "        for line_idx, line in enumerate(f):\n",
    "            parts = line.split(\",\")\n",
    "            week = int(parts[0])\n",
    "            start_time = datetime(1980, 1, 6, tzinfo=pytz.utc) + timedelta(weeks=week)\n",
    "            milliseconds_since_start_of_week = float(parts[1])\n",
    "            num_satellites = int(parts[7])\n",
    "            ignore = False\n",
    "            if num_satellites < 12:\n",
    "                print(f\"Ignoring GPS point with {num_satellites} satellites\")\n",
    "                ignore = True\n",
    "                continue\n",
    "            lat = float(parts[8])\n",
    "            lon = float(parts[9])\n",
    "            alt = float(parts[10])\n",
    "            time = start_time + timedelta(milliseconds=milliseconds_since_start_of_week)\n",
    "            gps_points.append(GpsTriggerEvent(time.isoformat(), lat, lon, alt, ignore, line_idx))\n"
   ]
  },
  {
   "cell_type": "code",
   "execution_count": null,
   "metadata": {},
   "outputs": [
    {
     "data": {
      "text/plain": [
       "{'lat': -37.807251549,\n",
       " 'lon': 174.837439757,\n",
       " 'alt': 752.6893,\n",
       " 'gps_time': '2025-08-11T22:06:13.129000+00:00',\n",
       " 'images': {'l09': {'path': '2025-08-12/cameras/l09/DCIM/10050812/_09L4188.JPG',\n",
       "   't': '2025-08-12T10:06:12.726765+12:00',\n",
       "   'bounds_lbrt': [[174.83460080877316, -37.80815247380174],\n",
       "    [174.8346008777554, -37.80635055564688],\n",
       "    [174.837439757, -37.80635058985239],\n",
       "    [174.837439757, -37.80815250800946]]},\n",
       "  'l28': {'path': '2025-08-12/cameras/l28/DCIM/10050812/_28L4173.JPG',\n",
       "   't': '2025-08-12T10:06:12.709647+12:00',\n",
       "   'bounds_lbrt': [[174.83119407090834, -37.80815234244409],\n",
       "    [174.83119422266924, -37.806350424297705],\n",
       "    [174.8346008777554, -37.80635055564688],\n",
       "    [174.83460080877316, -37.80815247380174]]},\n",
       "  'r09': {'path': '2025-08-12/cameras/r09/DCIM/10050812/_09R4136.JPG',\n",
       "   't': '2025-08-12T10:06:12.889059+12:00',\n",
       "   'bounds_lbrt': [[174.837439757, -37.80815250800946],\n",
       "    [174.837439757, -37.80635058985239],\n",
       "    [174.8402786362446, -37.80635055564688],\n",
       "    [174.84027870522684, -37.80815247380174]]},\n",
       "  'r28': {'path': '2025-08-12/cameras/r28/DCIM/10050812/_28R7306.JPG',\n",
       "   't': '2025-08-12T10:06:12.729176+12:00',\n",
       "   'bounds_lbrt': [[174.84027870522684, -37.80815247380174],\n",
       "    [174.8402786362446, -37.80635055564688],\n",
       "    [174.84368529133076, -37.806350424297705],\n",
       "    [174.84368544309166, -37.80815234244409]]}},\n",
       " 'line_id': None}"
      ]
     },
     "execution_count": 4,
     "metadata": {},
     "output_type": "execute_result"
    }
   ],
   "source": [
    "import json\n",
    "\n",
    "with open(\"./data/frames.json\") as f:\n",
    "    frames = json.load(f)\n",
    "frames[0]"
   ]
  },
  {
   "cell_type": "code",
   "execution_count": 7,
   "metadata": {},
   "outputs": [
    {
     "data": {
      "text/plain": [
       "GpsTriggerEvent(time='2025-08-11T21:22:29.716000+00:00', lat=-37.864363521, lon=175.336249145, alt=51.4326, ignore=False, line_idx=0)"
      ]
     },
     "execution_count": 7,
     "metadata": {},
     "output_type": "execute_result"
    }
   ],
   "source": [
    "gps_points[0]"
   ]
  },
  {
   "cell_type": "code",
   "execution_count": null,
   "metadata": {},
   "outputs": [
    {
     "name": "stderr",
     "output_type": "stream",
     "text": [
      "100%|██████████| 39485/39485 [00:00<00:00, 2639068.32it/s]"
     ]
    },
    {
     "name": "stdout",
     "output_type": "stream",
     "text": [
      "99 unmatched GPS points out of 39485\n"
     ]
    },
    {
     "name": "stderr",
     "output_type": "stream",
     "text": [
      "\n"
     ]
    }
   ],
   "source": [
    "from tqdm import tqdm\n",
    "\n",
    "\n",
    "unmatched = []\n",
    "assert len(set(f[\"gps_time\"] for f in frames)) == len(frames), \"gps_time should be unique in frames\"\n",
    "lookup = {f[\"gps_time\"]: f for f in frames}\n",
    "for g in tqdm(gps_points):\n",
    "    matched = lookup.get(g.time)\n",
    "    if not matched:\n",
    "        unmatched.append(g)\n",
    "print(len(unmatched), \"unmatched GPS points out of\", len(gps_points))\n"
   ]
  },
  {
   "cell_type": "code",
   "execution_count": null,
   "metadata": {},
   "outputs": [
    {
     "data": {
      "text/plain": [
       "{'lat': -37.864363521,\n",
       " 'lon': 175.336249145,\n",
       " 'alt': 51.4326,\n",
       " 'gps_time': '2025-08-11T21:22:29.716000+00:00',\n",
       " 'images': {},\n",
       " 'line_idx': None}"
      ]
     },
     "execution_count": 11,
     "metadata": {},
     "output_type": "execute_result"
    }
   ],
   "source": [
    "# Add them:\n",
    "for g in unmatched:\n",
    "    frames.append({\"lat\": g.lat, \"lon\": g.lon, \"alt\": g.alt, \"gps_time\": g.time, \"images\": {}, \"line_idx\": None})\n",
    "frames = sorted(frames, key=lambda f: f[\"gps_time\"])\n",
    "frames[0]"
   ]
  },
  {
   "cell_type": "code",
   "execution_count": 12,
   "metadata": {},
   "outputs": [],
   "source": [
    "with open(Path(\"./data/frames.json\"), \"w\") as f:\n",
    "    json.dump(frames, f)"
   ]
  },
  {
   "cell_type": "code",
   "execution_count": 8,
   "metadata": {},
   "outputs": [
    {
     "name": "stdout",
     "output_type": "stream",
     "text": [
      "Reading  /media/ko/MAUI63/2025-08-maui-winter-survey/2025-08-12/processed_frames.json\n",
      "Getting photos from /media/ko/MAUI63/2025-08-maui-winter-survey/2025-08-12/cameras/l09\n",
      "Getting photos from /media/ko/MAUI63/2025-08-maui-winter-survey/2025-08-12/cameras/l28\n",
      "Getting photos from /media/ko/MAUI63/2025-08-maui-winter-survey/2025-08-12/cameras/r09\n",
      "Getting photos from /media/ko/MAUI63/2025-08-maui-winter-survey/2025-08-12/cameras/r28\n",
      "Reading  /media/ko/MAUI63/2025-08-maui-winter-survey/2025-08-13/processed_frames.json\n",
      "Getting photos from /media/ko/MAUI63/2025-08-maui-winter-survey/2025-08-13/cameras/l09\n",
      "Getting photos from /media/ko/MAUI63/2025-08-maui-winter-survey/2025-08-13/cameras/l28\n",
      "Getting photos from /media/ko/MAUI63/2025-08-maui-winter-survey/2025-08-13/cameras/r09\n",
      "Getting photos from /media/ko/MAUI63/2025-08-maui-winter-survey/2025-08-13/cameras/r28\n",
      "Reading  /media/ko/MAUI63/2025-08-maui-winter-survey/2025-08-14/processed_frames.json\n",
      "Getting photos from /media/ko/MAUI63/2025-08-maui-winter-survey/2025-08-14/cameras/l09\n",
      "Getting photos from /media/ko/MAUI63/2025-08-maui-winter-survey/2025-08-14/cameras/l28\n",
      "Getting photos from /media/ko/MAUI63/2025-08-maui-winter-survey/2025-08-14/cameras/r09\n",
      "Getting photos from /media/ko/MAUI63/2025-08-maui-winter-survey/2025-08-14/cameras/r28\n",
      "Reading  /media/ko/MAUI63/2025-08-maui-winter-survey/2025-08-15/processed_frames.json\n",
      "Getting photos from /media/ko/MAUI63/2025-08-maui-winter-survey/2025-08-15/cameras/l09\n",
      "Getting photos from /media/ko/MAUI63/2025-08-maui-winter-survey/2025-08-15/cameras/l28\n",
      "Getting photos from /media/ko/MAUI63/2025-08-maui-winter-survey/2025-08-15/cameras/r09\n",
      "Getting photos from /media/ko/MAUI63/2025-08-maui-winter-survey/2025-08-15/cameras/r28\n",
      "Reading  /media/ko/MAUI63/2025-08-maui-winter-survey/2025-08-16/processed_frames.json\n",
      "Getting photos from /media/ko/MAUI63/2025-08-maui-winter-survey/2025-08-16/cameras/l09\n",
      "Getting photos from /media/ko/MAUI63/2025-08-maui-winter-survey/2025-08-16/cameras/l28\n",
      "Getting photos from /media/ko/MAUI63/2025-08-maui-winter-survey/2025-08-16/cameras/r09\n",
      "Getting photos from /media/ko/MAUI63/2025-08-maui-winter-survey/2025-08-16/cameras/r28\n",
      "Reading  /media/ko/MAUI63/2025-08-maui-winter-survey/2025-08-22/processed_frames.json\n",
      "Getting photos from /media/ko/MAUI63/2025-08-maui-winter-survey/2025-08-22/cameras/l09\n",
      "Getting photos from /media/ko/MAUI63/2025-08-maui-winter-survey/2025-08-22/cameras/l28\n",
      "Getting photos from /media/ko/MAUI63/2025-08-maui-winter-survey/2025-08-22/cameras/r09\n",
      "Getting photos from /media/ko/MAUI63/2025-08-maui-winter-survey/2025-08-22/cameras/r28\n"
     ]
    }
   ],
   "source": [
    "# Get all the photos:\n",
    "import json\n",
    "\n",
    "\n",
    "camera_photos = {}\n",
    "processed_frames = []\n",
    "possible_detections = []\n",
    "for daydir in sorted(SURVEY_DIR.iterdir()):\n",
    "    if not daydir.is_dir():\n",
    "        continue\n",
    "\n",
    "    # Load GPS matched stuff:\n",
    "    print(\"Reading \", daydir / \"processed_frames.json\")\n",
    "    with open(daydir / \"processed_frames.json\") as f:\n",
    "        frames = json.load(f)[\"frames\"]\n",
    "    # Add full path\n",
    "    for f in frames:\n",
    "        for i in f[\"images\"].values():\n",
    "            i[\"path\"] = f\"{daydir.name}/{i['path']}\"\n",
    "    processed_frames.extend(frames)\n",
    "\n",
    "    # Load possible detections\n",
    "    for camera_dir in (daydir / \"inferences\").iterdir():\n",
    "        for reviewed_img in (camera_dir / \"reviewed\").rglob(\"*.jpg\"):\n",
    "            relpath = reviewed_img.relative_to(camera_dir / \"reviewed\")\n",
    "            inferences_path = camera_dir / \"inferences\" / relpath.with_suffix(\".json\")\n",
    "            with open(inferences_path) as f:\n",
    "                detections = json.load(f)\n",
    "            assert len(detections) > 0\n",
    "            img_path = daydir / \"cameras\" / camera_dir.name / \"DCIM\" / relpath.with_suffix(\".JPG\")\n",
    "            assert img_path.exists(), f\"Image path {img_path} does not exist\"\n",
    "            possible_detections.append(\n",
    "                {\n",
    "                    \"camera\": camera_dir.name,\n",
    "                    \"img_path\": img_path,\n",
    "                    \"detections\": detections,\n",
    "                }\n",
    "            )\n",
    "\n",
    "    # Load frames\n",
    "    cameras_dir = daydir / \"cameras\"\n",
    "    for camera_dir in sorted(cameras_dir.iterdir()):\n",
    "        camera_name = camera_dir.name\n",
    "        print(f\"Getting photos from {camera_dir}\")\n",
    "        for img_path in camera_dir.rglob(\"*.JPG\"):\n",
    "            if camera_name not in camera_photos:\n",
    "                camera_photos[camera_name] = []\n",
    "            camera_photos[camera_name].append(img_path)"
   ]
  },
  {
   "cell_type": "code",
   "execution_count": 9,
   "metadata": {},
   "outputs": [
    {
     "name": "stdout",
     "output_type": "stream",
     "text": [
      "Loaded 39386 gps points\n",
      "Loaded 160829 photos\n",
      "Loaded 33 possible detections\n"
     ]
    }
   ],
   "source": [
    "print(f\"Loaded {len(processed_frames)} gps points\")\n",
    "print(f\"Loaded {sum(len(v) for v in camera_photos.values())} photos\")\n",
    "print(f\"Loaded {len(possible_detections)} possible detections\")"
   ]
  },
  {
   "cell_type": "code",
   "execution_count": 10,
   "metadata": {},
   "outputs": [
    {
     "data": {
      "text/plain": [
       "{'lat': -37.807251549,\n",
       " 'lon': 174.837439757,\n",
       " 'alt': 752.6893,\n",
       " 'gps_time': '2025-08-11T22:06:13.129000+00:00',\n",
       " 'images': {'l09': {'path': '2025-08-12/cameras/l09/DCIM/10050812/_09L4188.JPG',\n",
       "   't': '2025-08-12T10:06:12.726765+12:00',\n",
       "   'bounds_lbrt': [[174.83460080877316, -37.80815247380174],\n",
       "    [174.8346008777554, -37.80635055564688],\n",
       "    [174.837439757, -37.80635058985239],\n",
       "    [174.837439757, -37.80815250800946]]},\n",
       "  'l28': {'path': '2025-08-12/cameras/l28/DCIM/10050812/_28L4173.JPG',\n",
       "   't': '2025-08-12T10:06:12.709647+12:00',\n",
       "   'bounds_lbrt': [[174.83119407090834, -37.80815234244409],\n",
       "    [174.83119422266924, -37.806350424297705],\n",
       "    [174.8346008777554, -37.80635055564688],\n",
       "    [174.83460080877316, -37.80815247380174]]},\n",
       "  'r09': {'path': '2025-08-12/cameras/r09/DCIM/10050812/_09R4136.JPG',\n",
       "   't': '2025-08-12T10:06:12.889059+12:00',\n",
       "   'bounds_lbrt': [[174.837439757, -37.80815250800946],\n",
       "    [174.837439757, -37.80635058985239],\n",
       "    [174.8402786362446, -37.80635055564688],\n",
       "    [174.84027870522684, -37.80815247380174]]},\n",
       "  'r28': {'path': '2025-08-12/cameras/r28/DCIM/10050812/_28R7306.JPG',\n",
       "   't': '2025-08-12T10:06:12.729176+12:00',\n",
       "   'bounds_lbrt': [[174.84027870522684, -37.80815247380174],\n",
       "    [174.8402786362446, -37.80635055564688],\n",
       "    [174.84368529133076, -37.806350424297705],\n",
       "    [174.84368544309166, -37.80815234244409]]}}}"
      ]
     },
     "execution_count": 10,
     "metadata": {},
     "output_type": "execute_result"
    }
   ],
   "source": [
    "# OK, for each gps point, get the bounding box of each image so we can show it on a map\n",
    "import pyproj\n",
    "\n",
    "geodesic = pyproj.Geod(ellps=\"WGS84\")\n",
    "\n",
    "# TODO: calculate offsets from altitude\n",
    "offsets = {\n",
    "    \"l28\": (-550, -250),\n",
    "    \"l09\": (-250, 0),\n",
    "    \"r09\": (0, 250),\n",
    "    \"r28\": (250, 550),\n",
    "}\n",
    "image_height = 200\n",
    "sorted_frames = sorted(processed_frames, key=lambda x: x[\"gps_time\"])\n",
    "for idx in range(len(sorted_frames)):\n",
    "    p1 = sorted_frames[idx]\n",
    "    bearing = 0\n",
    "    if idx > 0:\n",
    "        p0 = sorted_frames[idx - 1]\n",
    "        bearing, _, _ = geodesic.inv(p0[\"lon\"], p0[\"lat\"], p1[\"lon\"], p1[\"lat\"])\n",
    "\n",
    "    for cam, d in p1[\"images\"].items():\n",
    "        x0, x1 = offsets[cam]\n",
    "        forward_lon, forward_lat, _ = geodesic.fwd(p1[\"lon\"], p1[\"lat\"], bearing, image_height / 2)\n",
    "        rear_lon, rear_lat, _ = geodesic.fwd(p1[\"lon\"], p1[\"lat\"], bearing + 180, image_height / 2)\n",
    "        angle = bearing - 90 if x0 < 0 else bearing + 90\n",
    "        top_left_lon, top_left_lat, _ = geodesic.fwd(forward_lon, forward_lat, angle, abs(x0))\n",
    "        top_right_lon, top_right_lat, _ = geodesic.fwd(forward_lon, forward_lat, angle, abs(x1))\n",
    "        bottom_left_lon, bottom_left_lat, _ = geodesic.fwd(rear_lon, rear_lat, angle, abs(x0))\n",
    "        bottom_right_lon, bottom_right_lat, _ = geodesic.fwd(rear_lon, rear_lat, angle, abs(x1))\n",
    "\n",
    "        d[\"bounds_lbrt\"] = [\n",
    "            [bottom_left_lon, bottom_left_lat],\n",
    "            [top_left_lon, top_left_lat],\n",
    "            [top_right_lon, top_right_lat],\n",
    "            [bottom_right_lon, bottom_right_lat],\n",
    "        ]\n",
    "\n",
    "processed_frames[0]"
   ]
  },
  {
   "cell_type": "code",
   "execution_count": 11,
   "metadata": {},
   "outputs": [
    {
     "data": {
      "text/plain": [
       "{'camera': 'l09',\n",
       " 'img_path': PosixPath('/media/ko/MAUI63/2025-08-maui-winter-survey/2025-08-13/cameras/l09/DCIM/10150813/_09L0183.JPG'),\n",
       " 'detections': [{'x0': 120.07931518554688,\n",
       "   'y0': 2048.131591796875,\n",
       "   'x1': 165.4490966796875,\n",
       "   'y1': 2109.912353515625,\n",
       "   'label': 'maui-or-hectors',\n",
       "   'score': 0.5148220062255859,\n",
       "   'ltwh': [0.01263460807928734,\n",
       "    0.3232530921396583,\n",
       "    0.004773756470343079,\n",
       "    0.009750751533893624]},\n",
       "  {'x0': 5120,\n",
       "   'y0': 1624.9957122802734,\n",
       "   'x1': 5131.011950492859,\n",
       "   'y1': 1650.07958984375,\n",
       "   'label': 'maui-or-hectors',\n",
       "   'score': 0.023116517812013626,\n",
       "   'ltwh': [0.5387205387205387,\n",
       "    0.2564702828725179,\n",
       "    0.0011586648245853206,\n",
       "    0.003958945322518397]}]}"
      ]
     },
     "execution_count": 11,
     "metadata": {},
     "output_type": "execute_result"
    }
   ],
   "source": [
    "from PIL import Image\n",
    "\n",
    "# Convert detection sizes to x,y,w,h relative:\n",
    "for det in possible_detections:\n",
    "    path = det[\"img_path\"]\n",
    "    with Image.open(path) as img:\n",
    "        iw, ih = img.size\n",
    "    for d in det[\"detections\"]:\n",
    "        x0, y0, x1, y1 = d[\"x0\"], d[\"y0\"], d[\"x1\"], d[\"y1\"]\n",
    "        left = x0 / iw\n",
    "        top = y0 / ih\n",
    "        width = (x1 - x0) / iw\n",
    "        height = (y1 - y0) / ih\n",
    "        d[\"ltwh\"] = [left, top, width, height]\n",
    "possible_detections[0]"
   ]
  },
  {
   "cell_type": "code",
   "execution_count": 12,
   "metadata": {},
   "outputs": [],
   "source": [
    "import json\n",
    "\n",
    "# Save it out:\n",
    "with open(OUTPUT_DIR / \"frames.json\", \"w\") as f:\n",
    "    json.dump(processed_frames, f, indent=2)\n",
    "with open(OUTPUT_DIR / \"camera_photos.json\", \"w\") as f:\n",
    "    json.dump({k: [str(p.relative_to(SURVEY_DIR)) for p in v] for k, v in camera_photos.items()}, f, indent=2)\n",
    "with open(OUTPUT_DIR / \"possible_detections.json\", \"w\") as f:\n",
    "    json.dump(\n",
    "        [\n",
    "            {\n",
    "                \"camera\": d[\"camera\"],\n",
    "                \"img_path\": str(d[\"img_path\"].relative_to(SURVEY_DIR)),\n",
    "                \"detections\": d[\"detections\"],\n",
    "            }\n",
    "            for d in possible_detections\n",
    "        ],\n",
    "        f,\n",
    "        indent=2,\n",
    "    )\n",
    "# Get the first image from camera l28\n"
   ]
  }
 ],
 "metadata": {
  "kernelspec": {
   "display_name": "cv",
   "language": "python",
   "name": "python3"
  },
  "language_info": {
   "codemirror_mode": {
    "name": "ipython",
    "version": 3
   },
   "file_extension": ".py",
   "mimetype": "text/x-python",
   "name": "python",
   "nbconvert_exporter": "python",
   "pygments_lexer": "ipython3",
   "version": "3.12.11"
  }
 },
 "nbformat": 4,
 "nbformat_minor": 2
}
